{
 "cells": [
  {
   "cell_type": "code",
   "execution_count": 27,
   "metadata": {
    "collapsed": true,
    "pycharm": {
     "is_executing": false,
     "name": "#%%\n"
    }
   },
   "outputs": [],
   "source": [
    "# Load data and set pandas options to display the full dataset if needed\n",
    "import re\n",
    "import pandas as pd\n",
    "from Notebooks import utils\n",
    "\n",
    "pd.set_option('display.max_columns', None)  \n",
    "pd.set_option('display.max_rows', None)  \n",
    "pd.set_option('display.max_colwidth', -1)  \n",
    "restaurant_data = pd.read_csv('../Data/restaurants.tsv', sep='\\t')\n",
    "restaurant_data = restaurant_data.set_index(['id'], drop=False)\n",
    "restaurant_data.head()\n",
    "# Load the gold standard duplicates to calculate metrics\n",
    "true_duplicates = pd.read_csv('../Data/restaurants_DPL.tsv', sep='\\t')"
   ]
  },
  {
   "cell_type": "code",
   "execution_count": 28,
   "outputs": [
    {
     "name": "stdout",
     "text": [
      "<class 'pandas.core.frame.DataFrame'>\nInt64Index: 864 entries, 1 to 864\nData columns (total 6 columns):\nid         864 non-null int64\nname       864 non-null object\naddress    864 non-null object\ncity       864 non-null object\nphone      864 non-null object\ntype       863 non-null object\ndtypes: int64(1), object(5)\nmemory usage: 47.2+ KB\n"
     ],
     "output_type": "stream"
    }
   ],
   "source": [
    "# Get info about the data and datatypes of the DataFrame\n",
    "restaurant_data.info()"
   ],
   "metadata": {
    "collapsed": false,
    "pycharm": {
     "name": "#%%\n",
     "is_executing": false
    }
   }
  },
  {
   "cell_type": "code",
   "execution_count": 29,
   "outputs": [],
   "source": [
    "# Remove special characters from phone, address, name and city to detect duplicates\n",
    "restaurant_data = utils.remove_special_characters(restaurant_data)"
   ],
   "metadata": {
    "collapsed": false,
    "pycharm": {
     "name": "#%%\n",
     "is_executing": false
    }
   }
  },
  {
   "cell_type": "code",
   "execution_count": 30,
   "outputs": [
    {
     "name": "stdout",
     "text": [
      "Duplicates after removing special characters\nDuplicates in address, city and phone44\nDuplicates in address name and phone: 50\nDuplicates in address city and name: 26\nDuplicates in name city and phone41\nDuplicates in address, city, name and phone: 25\nduplicates in 3 columns of address, city, name and phone86\n"
     ],
     "output_type": "stream"
    }
   ],
   "source": [
    "print('Duplicates after removing special characters')\n",
    "duplicates_bool = utils.get_duplicates_bool(restaurant_data)"
   ],
   "metadata": {
    "collapsed": false,
    "pycharm": {
     "name": "#%%\n",
     "is_executing": false
    }
   }
  },
  {
   "cell_type": "code",
   "execution_count": 31,
   "outputs": [
    {
     "name": "stdout",
     "text": [
      "Metrics after removing special characters\nAll entries in original dataset: 864\nDetected duplicates (all): 86\nReal duplicates (from gold standard): 112\nTrue positives: 80\nTrue negatives: 746\nFalse positives: 6\nFalse negatives: 32\nAccuracy 0.9560185185185185\nPrecision: 0.9302325581395349\nRecall: 0.7142857142857143\n"
     ],
     "output_type": "stream"
    }
   ],
   "source": [
    "print('Metrics after removing special characters')\n",
    "detected_duplicates = restaurant_data[duplicates_bool == True]\n",
    "utils.print_metrics(restaurant_data, detected_duplicates, true_duplicates)"
   ],
   "metadata": {
    "collapsed": false,
    "pycharm": {
     "name": "#%%\n",
     "is_executing": false
    }
   }
  },
  {
   "cell_type": "code",
   "execution_count": 32,
   "outputs": [
    {
     "data": {
      "text/plain": "array(['los angeles', 'studio city', 'bel air', 'sherman oaks',\n       'santa monica', 'hollywood', 'w hollywood', 'malibu',\n       'beverly hills', 'los feliz', 'chinatown', 'pasadena', 'new york',\n       'new york city', 'brooklyn', 'las vegas', 'atlanta',\n       'san francisco', 'pacific palisades', 'toluca lake', 'west la',\n       'westlake village', 'northridge', 'mar vista', 'venice', 'la',\n       'redondo beach', 'westwood', 'culver city', 'long beach',\n       'century city', 'st boyle hts', 'rancho park', 'st hermosa beach',\n       'marina del rey', 'encino', 'monterey park', 'burbank',\n       'seal beach', 'brentwood', 'manhattan beach', 'glendale', 'queens',\n       'marietta', 'roswell', 'smyrna', 'duluth', 'decatur',\n       'college park'], dtype=object)"
     },
     "metadata": {},
     "output_type": "execute_result",
     "execution_count": 32
    }
   ],
   "source": [
    "# Check the unique values of city\n",
    "restaurant_data.city.unique()"
   ],
   "metadata": {
    "collapsed": false,
    "pycharm": {
     "name": "#%%\n",
     "is_executing": false
    }
   }
  },
  {
   "cell_type": "code",
   "execution_count": 33,
   "outputs": [],
   "source": [
    "# Map multiple occurrences of the same city in different writing\n",
    "# It could also be a good idea to map all city parts to one city (i.e. hollywood -> los angeles)\n",
    "city_map = {'la': 'los angeles', 'new york city': 'new york', 'west la': 'los angeles', 'w hollywood': 'hollywood'}\n",
    "restaurant_data.city = restaurant_data.city.replace(city_map)"
   ],
   "metadata": {
    "collapsed": false,
    "pycharm": {
     "name": "#%%\n",
     "is_executing": false
    }
   }
  },
  {
   "cell_type": "code",
   "execution_count": 34,
   "outputs": [
    {
     "name": "stdout",
     "text": [
      "Duplicates after mapping multiple occurrences of the same city name\nDuplicates in address, city and phone71\nDuplicates in address name and phone: 50\nDuplicates in address city and name: 49\nDuplicates in name city and phone78\nDuplicates in address, city, name and phone: 48\nduplicates in 3 columns of address, city, name and phone104\n"
     ],
     "output_type": "stream"
    }
   ],
   "source": [
    "print('Duplicates after mapping multiple occurrences of the same city name')\n",
    "duplicates_bool = utils.get_duplicates_bool(restaurant_data)"
   ],
   "metadata": {
    "collapsed": false,
    "pycharm": {
     "name": "#%%\n",
     "is_executing": false
    }
   }
  },
  {
   "cell_type": "code",
   "execution_count": 35,
   "outputs": [
    {
     "name": "stdout",
     "text": [
      "Metrics after mapping multiple occurrences of the same city name\nAll entries in original dataset: 864\nDetected duplicates (all): 104\nReal duplicates (from gold standard): 112\nTrue positives: 98\nTrue negatives: 746\nFalse positives: 6\nFalse negatives: 14\nAccuracy 0.9768518518518519\nPrecision: 0.9423076923076923\nRecall: 0.875\n"
     ],
     "output_type": "stream"
    }
   ],
   "source": [
    "print('Metrics after mapping multiple occurrences of the same city name')\n",
    "detected_duplicates = restaurant_data[duplicates_bool == True]\n",
    "utils.print_metrics(restaurant_data, detected_duplicates, true_duplicates)"
   ],
   "metadata": {
    "collapsed": false,
    "pycharm": {
     "name": "#%%\n",
     "is_executing": false
    }
   }
  },
  {
   "cell_type": "code",
   "execution_count": 36,
   "outputs": [],
   "source": [
    "# Remove unnecessary explaination parts from the address string for a more accurate duplicate detection\n",
    "restaurant_data['address_cleared'] = restaurant_data['address'].str.split(r' between| off| near| at| in').str[0]"
   ],
   "metadata": {
    "collapsed": false,
    "pycharm": {
     "name": "#%%\n",
     "is_executing": false
    }
   }
  },
  {
   "cell_type": "code",
   "execution_count": 37,
   "outputs": [
    {
     "data": {
      "text/plain": "          address_cleared                address           city\nid                                                             \n1   435 s la cienega blv   435 s la cienega blv   los angeles  \n2   435 s la cienega blvd  435 s la cienega blvd  los angeles  \n3   12224 ventura blvd     12224 ventura blvd     studio city  \n4   12224 ventura blvd     12224 ventura blvd     studio city  \n5   701 stone canyon rd    701 stone canyon rd    bel air      \n6   701 stone canyon rd    701 stone canyon rd    bel air      \n7   14016 ventura blvd     14016 ventura blvd     sherman oaks \n8   14016 ventura blvd     14016 ventura blvd     sherman oaks \n9   624 s la brea ave      624 s la brea ave      los angeles  \n10  624 s la brea ave      624 s la brea ave      los angeles  \n11  2709 main st           2709 main st           santa monica \n12  2709 main st           2709 main st           santa monica \n13  6703 melrose ave       6703 melrose ave       los angeles  \n14  6703 melrose ave       6703 melrose ave       los angeles  \n15  8358 sunset blvd west  8358 sunset blvd west  hollywood    \n16  8358 sunset blvd       8358 sunset blvd       hollywood    \n17  23725 w malibu rd      23725 w malibu rd      malibu       \n18  23725 w malibu rd      23725 w malibu rd      malibu       \n19  9560 dayton way        9560 dayton way        los angeles  \n20  9560 dayton way        9560 dayton way        beverly hills",
      "text/html": "<div>\n<style scoped>\n    .dataframe tbody tr th:only-of-type {\n        vertical-align: middle;\n    }\n\n    .dataframe tbody tr th {\n        vertical-align: top;\n    }\n\n    .dataframe thead th {\n        text-align: right;\n    }\n</style>\n<table border=\"1\" class=\"dataframe\">\n  <thead>\n    <tr style=\"text-align: right;\">\n      <th></th>\n      <th>address_cleared</th>\n      <th>address</th>\n      <th>city</th>\n    </tr>\n    <tr>\n      <th>id</th>\n      <th></th>\n      <th></th>\n      <th></th>\n    </tr>\n  </thead>\n  <tbody>\n    <tr>\n      <th>1</th>\n      <td>435 s la cienega blv</td>\n      <td>435 s la cienega blv</td>\n      <td>los angeles</td>\n    </tr>\n    <tr>\n      <th>2</th>\n      <td>435 s la cienega blvd</td>\n      <td>435 s la cienega blvd</td>\n      <td>los angeles</td>\n    </tr>\n    <tr>\n      <th>3</th>\n      <td>12224 ventura blvd</td>\n      <td>12224 ventura blvd</td>\n      <td>studio city</td>\n    </tr>\n    <tr>\n      <th>4</th>\n      <td>12224 ventura blvd</td>\n      <td>12224 ventura blvd</td>\n      <td>studio city</td>\n    </tr>\n    <tr>\n      <th>5</th>\n      <td>701 stone canyon rd</td>\n      <td>701 stone canyon rd</td>\n      <td>bel air</td>\n    </tr>\n    <tr>\n      <th>6</th>\n      <td>701 stone canyon rd</td>\n      <td>701 stone canyon rd</td>\n      <td>bel air</td>\n    </tr>\n    <tr>\n      <th>7</th>\n      <td>14016 ventura blvd</td>\n      <td>14016 ventura blvd</td>\n      <td>sherman oaks</td>\n    </tr>\n    <tr>\n      <th>8</th>\n      <td>14016 ventura blvd</td>\n      <td>14016 ventura blvd</td>\n      <td>sherman oaks</td>\n    </tr>\n    <tr>\n      <th>9</th>\n      <td>624 s la brea ave</td>\n      <td>624 s la brea ave</td>\n      <td>los angeles</td>\n    </tr>\n    <tr>\n      <th>10</th>\n      <td>624 s la brea ave</td>\n      <td>624 s la brea ave</td>\n      <td>los angeles</td>\n    </tr>\n    <tr>\n      <th>11</th>\n      <td>2709 main st</td>\n      <td>2709 main st</td>\n      <td>santa monica</td>\n    </tr>\n    <tr>\n      <th>12</th>\n      <td>2709 main st</td>\n      <td>2709 main st</td>\n      <td>santa monica</td>\n    </tr>\n    <tr>\n      <th>13</th>\n      <td>6703 melrose ave</td>\n      <td>6703 melrose ave</td>\n      <td>los angeles</td>\n    </tr>\n    <tr>\n      <th>14</th>\n      <td>6703 melrose ave</td>\n      <td>6703 melrose ave</td>\n      <td>los angeles</td>\n    </tr>\n    <tr>\n      <th>15</th>\n      <td>8358 sunset blvd west</td>\n      <td>8358 sunset blvd west</td>\n      <td>hollywood</td>\n    </tr>\n    <tr>\n      <th>16</th>\n      <td>8358 sunset blvd</td>\n      <td>8358 sunset blvd</td>\n      <td>hollywood</td>\n    </tr>\n    <tr>\n      <th>17</th>\n      <td>23725 w malibu rd</td>\n      <td>23725 w malibu rd</td>\n      <td>malibu</td>\n    </tr>\n    <tr>\n      <th>18</th>\n      <td>23725 w malibu rd</td>\n      <td>23725 w malibu rd</td>\n      <td>malibu</td>\n    </tr>\n    <tr>\n      <th>19</th>\n      <td>9560 dayton way</td>\n      <td>9560 dayton way</td>\n      <td>los angeles</td>\n    </tr>\n    <tr>\n      <th>20</th>\n      <td>9560 dayton way</td>\n      <td>9560 dayton way</td>\n      <td>beverly hills</td>\n    </tr>\n  </tbody>\n</table>\n</div>"
     },
     "metadata": {},
     "output_type": "execute_result",
     "execution_count": 37
    }
   ],
   "source": [
    "# Print the new and old address to ensure that there was an improvement in the data quality\n",
    "restaurant_data[['address_cleared', 'address', 'city']].head(20)"
   ],
   "metadata": {
    "collapsed": false,
    "pycharm": {
     "name": "#%%\n",
     "is_executing": false
    }
   }
  },
  {
   "cell_type": "code",
   "execution_count": 38,
   "outputs": [],
   "source": [
    "# Overwrite address and remove address_cleared for a more consistent dataframe\n",
    "restaurant_data.address = restaurant_data.address_cleared\n",
    "restaurant_data = restaurant_data.drop(['address_cleared'], axis=1)"
   ],
   "metadata": {
    "collapsed": false,
    "pycharm": {
     "name": "#%%\n",
     "is_executing": false
    }
   }
  },
  {
   "cell_type": "code",
   "execution_count": 39,
   "outputs": [
    {
     "name": "stdout",
     "text": [
      "Duplicates after removing appendixes from the address column\nDuplicates in address, city and phone73",
      "\nDuplicates in address name and phone: 52\nDuplicates in address city and name: 51\nDuplicates in name city and phone78\nDuplicates in address, city, name and phone: 50\nduplicates in 3 columns of address, city, name and phone104\n"
     ],
     "output_type": "stream"
    }
   ],
   "source": [
    "print('Duplicates after removing appendixes from the address column')\n",
    "duplicates_bool = utils.get_duplicates_bool(restaurant_data)"
   ],
   "metadata": {
    "collapsed": false,
    "pycharm": {
     "name": "#%%\n",
     "is_executing": false
    }
   }
  },
  {
   "cell_type": "code",
   "execution_count": 40,
   "outputs": [
    {
     "name": "stdout",
     "text": [
      "Metrics after appendixes from the address column\nAll entries in original dataset: 864\nDetected duplicates (all): 104\nReal duplicates (from gold standard): 112\nTrue positives: 98\nTrue negatives: 746\nFalse positives: 6\nFalse negatives: 14\nAccuracy 0.9768518518518519\nPrecision: 0.9423076923076923\nRecall: 0.875\n"
     ],
     "output_type": "stream"
    }
   ],
   "source": [
    "print('Metrics after appendixes from the address column')\n",
    "detected_duplicates = restaurant_data[duplicates_bool == True]\n",
    "utils.print_metrics(restaurant_data, detected_duplicates, true_duplicates)\n"
   ],
   "metadata": {
    "collapsed": false,
    "pycharm": {
     "name": "#%%\n",
     "is_executing": false
    }
   }
  },
  {
   "cell_type": "code",
   "execution_count": 41,
   "outputs": [],
   "source": [
    "# Remove appendixes of numbers because they are inconsistent over the dataset\n",
    "restaurant_data.address = restaurant_data.address.map(lambda x: re.sub(r\"(?<=\\d)(st|nd|rd|th)\\b\", '', x))\n"
   ],
   "metadata": {
    "collapsed": false,
    "pycharm": {
     "name": "#%%\n",
     "is_executing": false
    }
   }
  },
  {
   "cell_type": "code",
   "execution_count": 42,
   "outputs": [
    {
     "name": "stdout",
     "text": [
      "Duplicates after removing appendixes from the street number\nDuplicates in address, city and phone73",
      "\nDuplicates in address name and phone: 52\nDuplicates in address city and name: 51\nDuplicates in name city and phone78\nDuplicates in address, city, name and phone: 50\nduplicates in 3 columns of address, city, name and phone104\n"
     ],
     "output_type": "stream"
    }
   ],
   "source": [
    "print('Duplicates after removing appendixes from the street number')\n",
    "duplicates_bool = utils.get_duplicates_bool(restaurant_data)"
   ],
   "metadata": {
    "collapsed": false,
    "pycharm": {
     "name": "#%%\n",
     "is_executing": false
    }
   }
  },
  {
   "cell_type": "code",
   "execution_count": 43,
   "outputs": [
    {
     "name": "stdout",
     "text": [
      "Metrics after appendixes from the street number\nAll entries in original dataset: 864",
      "\nDetected duplicates (all): 104\nReal duplicates (from gold standard): 112\nTrue positives: 98\nTrue negatives: 746\nFalse positives: 6\nFalse negatives: 14\nAccuracy 0.9768518518518519\nPrecision: 0.9423076923076923\nRecall: 0.875\n"
     ],
     "output_type": "stream"
    }
   ],
   "source": [
    "print('Metrics after appendixes from the street number')\n",
    "detected_duplicates = restaurant_data[duplicates_bool == True]\n",
    "utils.print_metrics(restaurant_data, detected_duplicates, true_duplicates)"
   ],
   "metadata": {
    "collapsed": false,
    "pycharm": {
     "name": "#%%\n",
     "is_executing": false
    }
   }
  },
  {
   "cell_type": "code",
   "execution_count": 44,
   "outputs": [],
   "source": [
    "# Remove the direction in address and name because it's inconsistent over the dataset\n",
    "restaurant_data.address = restaurant_data.address.map(lambda x: re.sub('(( |^)((south)|(east)|(west)|(north)|(ne)|(se)|(nw)|(sw)|s|w|e|n)( |$))', ' ', x))\n",
    "restaurant_data.name = restaurant_data.name.map(lambda x: re.sub('(( |^)((south)|(east)|(west)|(north)|(ne)|(se)|(nw)|(sw)|s|w|e|n)( |$))', ' ', x))"
   ],
   "metadata": {
    "collapsed": false,
    "pycharm": {
     "name": "#%%\n",
     "is_executing": false
    }
   }
  },
  {
   "cell_type": "code",
   "execution_count": 45,
   "outputs": [
    {
     "name": "stdout",
     "text": [
      "Duplicates after removing direction from address and name\nDuplicates in address, city and phone75\nDuplicates in address name and phone: 52\nDuplicates in address city and name: 51\nDuplicates in name city and phone78\nDuplicates in address, city, name and phone: 50\nduplicates in 3 columns of address, city, name and phone106\n"
     ],
     "output_type": "stream"
    }
   ],
   "source": [
    "print('Duplicates after removing direction from address and name')\n",
    "duplicates_bool = utils.get_duplicates_bool(restaurant_data)"
   ],
   "metadata": {
    "collapsed": false,
    "pycharm": {
     "name": "#%%\n",
     "is_executing": false
    }
   }
  },
  {
   "cell_type": "code",
   "execution_count": 46,
   "outputs": [
    {
     "name": "stdout",
     "text": [
      "Metrics after removing direction from address and name\nAll entries in original dataset: 864\nDetected duplicates (all): 106\nReal duplicates (from gold standard): 112\nTrue positives: 98\nTrue negatives: 744\nFalse positives: 8\nFalse negatives: 14\nAccuracy 0.9745370370370371\nPrecision: 0.9245283018867925\nRecall: 0.875\n"
     ],
     "output_type": "stream"
    }
   ],
   "source": [
    "print('Metrics after removing direction from address and name')\n",
    "detected_duplicates = restaurant_data[duplicates_bool == True]\n",
    "utils.print_metrics(restaurant_data, detected_duplicates, true_duplicates)"
   ],
   "metadata": {
    "collapsed": false,
    "pycharm": {
     "name": "#%%\n",
     "is_executing": false
    }
   }
  },
  {
   "cell_type": "code",
   "execution_count": 47,
   "outputs": [],
   "source": [
    "# Standardize the address even more\n",
    "address_num_map = {'first': '1', 'second': '2', 'third': '3', 'fourth': '4', 'fifth': '5', 'sixth': '6',\n",
    "                   'seventh': '7','eighth' : '8', 'ninth': '9', 'tenth': '10', 'eleventh': '11', 'twelfth': '12'}\n",
    "address_name_map = {'la': 'los angeles', 'ave': 'avenue',  'rd': 'road', 'blv': 'boulevard', \n",
    "                    'blvd': 'boulevard', 'st': 'street'}\n",
    "address_map = {**address_name_map, **address_num_map}\n",
    "restaurant_data.address = restaurant_data.address.map(lambda x: ' '.join([address_map.get(i, i) for i in x.split()]))"
   ],
   "metadata": {
    "collapsed": false,
    "pycharm": {
     "name": "#%%\n",
     "is_executing": false
    }
   }
  },
  {
   "cell_type": "code",
   "execution_count": 48,
   "outputs": [
    {
     "name": "stdout",
     "text": [
      "Duplicates after remapping the address\nDuplicates in address, city and phone94",
      "\nDuplicates in address name and phone: 67\nDuplicates in address city and name: 67\nDuplicates in name city and phone78\nDuplicates in address, city, name and phone: 65\nduplicates in 3 columns of address, city, name and phone111\n"
     ],
     "output_type": "stream"
    }
   ],
   "source": [
    "print('Duplicates after remapping the address')\n",
    "duplicates_bool = utils.get_duplicates_bool(restaurant_data)"
   ],
   "metadata": {
    "collapsed": false,
    "pycharm": {
     "name": "#%%\n",
     "is_executing": false
    }
   }
  },
  {
   "cell_type": "code",
   "execution_count": 49,
   "outputs": [
    {
     "name": "stdout",
     "text": [
      "Metrics after remapping the address\nAll entries in original dataset: 864",
      "\nDetected duplicates (all): 111\nReal duplicates (from gold standard): 112\nTrue positives: 103\nTrue negatives: 744\nFalse positives: 8\nFalse negatives: 9\nAccuracy 0.9803240740740741\nPrecision: 0.9279279279279279\nRecall: 0.9196428571428571\n"
     ],
     "output_type": "stream"
    }
   ],
   "source": [
    "print('Metrics after remapping the address')\n",
    "detected_duplicates = restaurant_data[duplicates_bool == True]\n",
    "utils.print_metrics(restaurant_data, detected_duplicates, true_duplicates)"
   ],
   "metadata": {
    "collapsed": false,
    "pycharm": {
     "name": "#%%\n",
     "is_executing": false
    }
   }
  },
  {
   "cell_type": "code",
   "execution_count": 50,
   "outputs": [
    {
     "data": {
      "text/plain": "    id                       name                            address  \\\nid                                                                     \n2   2   arnie mortons of chicago   435 los angeles cienega boulevard   \n4   4   arts deli                  12224 ventura boulevard             \n6   6   belair hotel               701 stone canyon road               \n8   8   cafe bizou                 14016 ventura boulevard             \n10  10  campanile                  624 los angeles brea avenue         \n12  12  chinois on main            2709 main street                    \n14  14  citrus                     6703 melrose avenue                 \n16  16  fenix at the argyle        8358 sunset boulevard               \n18  18  granita                    23725 malibu road                   \n24  24  lorangerie                 903 los angeles cienega boulevard   \n26  26  le chardonnay los angeles  8284 melrose avenue                 \n28  28  locanda veneta             8638 3 street                       \n30  30  matsuhisa                  129 los angeles cienega boulevard   \n34  34  patina                     5955 melrose avenue                 \n38  38  pinot bistro               12969 ventura boulevard             \n40  40  rex il ristorante          617 olive street                    \n44  44  valentino                  3115 pico boulevard                 \n48  48  21 club                    21 52 street                        \n50  50  aquavit                    13 54 street                        \n52  52  aureole                    34 61 street                        \n\n             city       phone                  type  \nid                                                   \n2   los angeles    3102461501  steakhouses           \n4   studio city    8187621221  delis                 \n6   bel air        3104721211  californian           \n8   sherman oaks   8187883536  french bistro         \n10  los angeles    2139381447  californian           \n12  santa monica   3103929025  pacific new wave      \n14  los angeles    2138570034  californian           \n16  hollywood      2138486677  french (new)          \n18  malibu         3104560488  californian           \n24  hollywood      3106529770  french (classic)      \n26  los angeles    2136558880  french bistro         \n28  los angeles    3102741893  italian               \n30  beverly hills  3106599639  seafood               \n34  los angeles    2134671108  californian           \n38  studio city    8189900500  french bistro         \n40  los angeles    2136272300  nuova cucina italian  \n44  santa monica   3108294313  italian               \n48  new york       2125827200  american (new)        \n50  new york       2123077311  scandinavian          \n52  new york       2123191660  american (new)        ",
      "text/html": "<div>\n<style scoped>\n    .dataframe tbody tr th:only-of-type {\n        vertical-align: middle;\n    }\n\n    .dataframe tbody tr th {\n        vertical-align: top;\n    }\n\n    .dataframe thead th {\n        text-align: right;\n    }\n</style>\n<table border=\"1\" class=\"dataframe\">\n  <thead>\n    <tr style=\"text-align: right;\">\n      <th></th>\n      <th>id</th>\n      <th>name</th>\n      <th>address</th>\n      <th>city</th>\n      <th>phone</th>\n      <th>type</th>\n    </tr>\n    <tr>\n      <th>id</th>\n      <th></th>\n      <th></th>\n      <th></th>\n      <th></th>\n      <th></th>\n      <th></th>\n    </tr>\n  </thead>\n  <tbody>\n    <tr>\n      <th>2</th>\n      <td>2</td>\n      <td>arnie mortons of chicago</td>\n      <td>435 los angeles cienega boulevard</td>\n      <td>los angeles</td>\n      <td>3102461501</td>\n      <td>steakhouses</td>\n    </tr>\n    <tr>\n      <th>4</th>\n      <td>4</td>\n      <td>arts deli</td>\n      <td>12224 ventura boulevard</td>\n      <td>studio city</td>\n      <td>8187621221</td>\n      <td>delis</td>\n    </tr>\n    <tr>\n      <th>6</th>\n      <td>6</td>\n      <td>belair hotel</td>\n      <td>701 stone canyon road</td>\n      <td>bel air</td>\n      <td>3104721211</td>\n      <td>californian</td>\n    </tr>\n    <tr>\n      <th>8</th>\n      <td>8</td>\n      <td>cafe bizou</td>\n      <td>14016 ventura boulevard</td>\n      <td>sherman oaks</td>\n      <td>8187883536</td>\n      <td>french bistro</td>\n    </tr>\n    <tr>\n      <th>10</th>\n      <td>10</td>\n      <td>campanile</td>\n      <td>624 los angeles brea avenue</td>\n      <td>los angeles</td>\n      <td>2139381447</td>\n      <td>californian</td>\n    </tr>\n    <tr>\n      <th>12</th>\n      <td>12</td>\n      <td>chinois on main</td>\n      <td>2709 main street</td>\n      <td>santa monica</td>\n      <td>3103929025</td>\n      <td>pacific new wave</td>\n    </tr>\n    <tr>\n      <th>14</th>\n      <td>14</td>\n      <td>citrus</td>\n      <td>6703 melrose avenue</td>\n      <td>los angeles</td>\n      <td>2138570034</td>\n      <td>californian</td>\n    </tr>\n    <tr>\n      <th>16</th>\n      <td>16</td>\n      <td>fenix at the argyle</td>\n      <td>8358 sunset boulevard</td>\n      <td>hollywood</td>\n      <td>2138486677</td>\n      <td>french (new)</td>\n    </tr>\n    <tr>\n      <th>18</th>\n      <td>18</td>\n      <td>granita</td>\n      <td>23725 malibu road</td>\n      <td>malibu</td>\n      <td>3104560488</td>\n      <td>californian</td>\n    </tr>\n    <tr>\n      <th>24</th>\n      <td>24</td>\n      <td>lorangerie</td>\n      <td>903 los angeles cienega boulevard</td>\n      <td>hollywood</td>\n      <td>3106529770</td>\n      <td>french (classic)</td>\n    </tr>\n    <tr>\n      <th>26</th>\n      <td>26</td>\n      <td>le chardonnay los angeles</td>\n      <td>8284 melrose avenue</td>\n      <td>los angeles</td>\n      <td>2136558880</td>\n      <td>french bistro</td>\n    </tr>\n    <tr>\n      <th>28</th>\n      <td>28</td>\n      <td>locanda veneta</td>\n      <td>8638 3 street</td>\n      <td>los angeles</td>\n      <td>3102741893</td>\n      <td>italian</td>\n    </tr>\n    <tr>\n      <th>30</th>\n      <td>30</td>\n      <td>matsuhisa</td>\n      <td>129 los angeles cienega boulevard</td>\n      <td>beverly hills</td>\n      <td>3106599639</td>\n      <td>seafood</td>\n    </tr>\n    <tr>\n      <th>34</th>\n      <td>34</td>\n      <td>patina</td>\n      <td>5955 melrose avenue</td>\n      <td>los angeles</td>\n      <td>2134671108</td>\n      <td>californian</td>\n    </tr>\n    <tr>\n      <th>38</th>\n      <td>38</td>\n      <td>pinot bistro</td>\n      <td>12969 ventura boulevard</td>\n      <td>studio city</td>\n      <td>8189900500</td>\n      <td>french bistro</td>\n    </tr>\n    <tr>\n      <th>40</th>\n      <td>40</td>\n      <td>rex il ristorante</td>\n      <td>617 olive street</td>\n      <td>los angeles</td>\n      <td>2136272300</td>\n      <td>nuova cucina italian</td>\n    </tr>\n    <tr>\n      <th>44</th>\n      <td>44</td>\n      <td>valentino</td>\n      <td>3115 pico boulevard</td>\n      <td>santa monica</td>\n      <td>3108294313</td>\n      <td>italian</td>\n    </tr>\n    <tr>\n      <th>48</th>\n      <td>48</td>\n      <td>21 club</td>\n      <td>21 52 street</td>\n      <td>new york</td>\n      <td>2125827200</td>\n      <td>american (new)</td>\n    </tr>\n    <tr>\n      <th>50</th>\n      <td>50</td>\n      <td>aquavit</td>\n      <td>13 54 street</td>\n      <td>new york</td>\n      <td>2123077311</td>\n      <td>scandinavian</td>\n    </tr>\n    <tr>\n      <th>52</th>\n      <td>52</td>\n      <td>aureole</td>\n      <td>34 61 street</td>\n      <td>new york</td>\n      <td>2123191660</td>\n      <td>american (new)</td>\n    </tr>\n  </tbody>\n</table>\n</div>"
     },
     "metadata": {},
     "output_type": "execute_result",
     "execution_count": 50
    }
   ],
   "source": [
    "detected_duplicates.head(20)"
   ],
   "metadata": {
    "collapsed": false,
    "pycharm": {
     "name": "#%%\n",
     "is_executing": false
    }
   }
  },
  {
   "cell_type": "code",
   "execution_count": 51,
   "outputs": [
    {
     "data": {
      "text/plain": "    id                      name                            address  \\\nid                                                                    \n1   1   arnie mortons of chicago  435 los angeles cienega boulevard   \n3   3   arts delicatessen         12224 ventura boulevard             \n5   5   hotel belair              701 stone canyon road               \n7   7   cafe bizou                14016 ventura boulevard             \n9   9   campanile                 624 los angeles brea avenue         \n11  11  chinois on main           2709 main street                    \n13  13  citrus                    6703 melrose avenue                 \n15  15  fenix                     8358 sunset boulevard               \n17  17  granita                   23725 malibu road                   \n19  19  grill on the alley        9560 dayton way                     \n20  20  grill  the                9560 dayton way                     \n21  21  restaurant katsu          1972 hillhurst avenue               \n22  22  katsu                     1972 hillhurst avenue               \n23  23  lorangerie                903 los angeles cienega boulevard   \n25  25  le chardonnay             8284 melrose avenue                 \n27  27  locanda veneta            3 street                            \n29  29  matsuhisa                 129 los angeles cienega boulevard   \n31  31  the palm                  9001 santa monica boulevard         \n32  32  palm  the los angeles     9001 santa monica boulevard         \n33  33  patina                    5955 melrose avenue                 \n\n             city       phone                    type  \nid                                                     \n1   los angeles    3102461501  american                \n3   studio city    8187621221  american                \n5   bel air        3104721211  californian             \n7   sherman oaks   8187883536  french                  \n9   los angeles    2139381447  american                \n11  santa monica   3103929025  french                  \n13  los angeles    2138570034  californian             \n15  hollywood      2138486677  american                \n17  malibu         3104560488  californian             \n19  los angeles    3102760615  american                \n20  beverly hills  3102760615  american (traditional)  \n21  los angeles    2136651891  asian                   \n22  los feliz      2136651891  japanese                \n23  los angeles    3106529770  french                  \n25  los angeles    2136558880  french                  \n27  los angeles    3102741893  italian                 \n29  beverly hills  3106599639  asian                   \n31  los angeles    3105508811  american                \n32  hollywood      3105508811  steakhouses             \n33  los angeles    2134671108  californian             ",
      "text/html": "<div>\n<style scoped>\n    .dataframe tbody tr th:only-of-type {\n        vertical-align: middle;\n    }\n\n    .dataframe tbody tr th {\n        vertical-align: top;\n    }\n\n    .dataframe thead th {\n        text-align: right;\n    }\n</style>\n<table border=\"1\" class=\"dataframe\">\n  <thead>\n    <tr style=\"text-align: right;\">\n      <th></th>\n      <th>id</th>\n      <th>name</th>\n      <th>address</th>\n      <th>city</th>\n      <th>phone</th>\n      <th>type</th>\n    </tr>\n    <tr>\n      <th>id</th>\n      <th></th>\n      <th></th>\n      <th></th>\n      <th></th>\n      <th></th>\n      <th></th>\n    </tr>\n  </thead>\n  <tbody>\n    <tr>\n      <th>1</th>\n      <td>1</td>\n      <td>arnie mortons of chicago</td>\n      <td>435 los angeles cienega boulevard</td>\n      <td>los angeles</td>\n      <td>3102461501</td>\n      <td>american</td>\n    </tr>\n    <tr>\n      <th>3</th>\n      <td>3</td>\n      <td>arts delicatessen</td>\n      <td>12224 ventura boulevard</td>\n      <td>studio city</td>\n      <td>8187621221</td>\n      <td>american</td>\n    </tr>\n    <tr>\n      <th>5</th>\n      <td>5</td>\n      <td>hotel belair</td>\n      <td>701 stone canyon road</td>\n      <td>bel air</td>\n      <td>3104721211</td>\n      <td>californian</td>\n    </tr>\n    <tr>\n      <th>7</th>\n      <td>7</td>\n      <td>cafe bizou</td>\n      <td>14016 ventura boulevard</td>\n      <td>sherman oaks</td>\n      <td>8187883536</td>\n      <td>french</td>\n    </tr>\n    <tr>\n      <th>9</th>\n      <td>9</td>\n      <td>campanile</td>\n      <td>624 los angeles brea avenue</td>\n      <td>los angeles</td>\n      <td>2139381447</td>\n      <td>american</td>\n    </tr>\n    <tr>\n      <th>11</th>\n      <td>11</td>\n      <td>chinois on main</td>\n      <td>2709 main street</td>\n      <td>santa monica</td>\n      <td>3103929025</td>\n      <td>french</td>\n    </tr>\n    <tr>\n      <th>13</th>\n      <td>13</td>\n      <td>citrus</td>\n      <td>6703 melrose avenue</td>\n      <td>los angeles</td>\n      <td>2138570034</td>\n      <td>californian</td>\n    </tr>\n    <tr>\n      <th>15</th>\n      <td>15</td>\n      <td>fenix</td>\n      <td>8358 sunset boulevard</td>\n      <td>hollywood</td>\n      <td>2138486677</td>\n      <td>american</td>\n    </tr>\n    <tr>\n      <th>17</th>\n      <td>17</td>\n      <td>granita</td>\n      <td>23725 malibu road</td>\n      <td>malibu</td>\n      <td>3104560488</td>\n      <td>californian</td>\n    </tr>\n    <tr>\n      <th>19</th>\n      <td>19</td>\n      <td>grill on the alley</td>\n      <td>9560 dayton way</td>\n      <td>los angeles</td>\n      <td>3102760615</td>\n      <td>american</td>\n    </tr>\n    <tr>\n      <th>20</th>\n      <td>20</td>\n      <td>grill  the</td>\n      <td>9560 dayton way</td>\n      <td>beverly hills</td>\n      <td>3102760615</td>\n      <td>american (traditional)</td>\n    </tr>\n    <tr>\n      <th>21</th>\n      <td>21</td>\n      <td>restaurant katsu</td>\n      <td>1972 hillhurst avenue</td>\n      <td>los angeles</td>\n      <td>2136651891</td>\n      <td>asian</td>\n    </tr>\n    <tr>\n      <th>22</th>\n      <td>22</td>\n      <td>katsu</td>\n      <td>1972 hillhurst avenue</td>\n      <td>los feliz</td>\n      <td>2136651891</td>\n      <td>japanese</td>\n    </tr>\n    <tr>\n      <th>23</th>\n      <td>23</td>\n      <td>lorangerie</td>\n      <td>903 los angeles cienega boulevard</td>\n      <td>los angeles</td>\n      <td>3106529770</td>\n      <td>french</td>\n    </tr>\n    <tr>\n      <th>25</th>\n      <td>25</td>\n      <td>le chardonnay</td>\n      <td>8284 melrose avenue</td>\n      <td>los angeles</td>\n      <td>2136558880</td>\n      <td>french</td>\n    </tr>\n    <tr>\n      <th>27</th>\n      <td>27</td>\n      <td>locanda veneta</td>\n      <td>3 street</td>\n      <td>los angeles</td>\n      <td>3102741893</td>\n      <td>italian</td>\n    </tr>\n    <tr>\n      <th>29</th>\n      <td>29</td>\n      <td>matsuhisa</td>\n      <td>129 los angeles cienega boulevard</td>\n      <td>beverly hills</td>\n      <td>3106599639</td>\n      <td>asian</td>\n    </tr>\n    <tr>\n      <th>31</th>\n      <td>31</td>\n      <td>the palm</td>\n      <td>9001 santa monica boulevard</td>\n      <td>los angeles</td>\n      <td>3105508811</td>\n      <td>american</td>\n    </tr>\n    <tr>\n      <th>32</th>\n      <td>32</td>\n      <td>palm  the los angeles</td>\n      <td>9001 santa monica boulevard</td>\n      <td>hollywood</td>\n      <td>3105508811</td>\n      <td>steakhouses</td>\n    </tr>\n    <tr>\n      <th>33</th>\n      <td>33</td>\n      <td>patina</td>\n      <td>5955 melrose avenue</td>\n      <td>los angeles</td>\n      <td>2134671108</td>\n      <td>californian</td>\n    </tr>\n  </tbody>\n</table>\n</div>"
     },
     "metadata": {},
     "output_type": "execute_result",
     "execution_count": 51
    }
   ],
   "source": [
    "# Check the dataset without duplicates\n",
    "restaurant_data[restaurant_data['id'].isin(detected_duplicates['id'])== False].head(20)"
   ],
   "metadata": {
    "collapsed": false,
    "pycharm": {
     "name": "#%%\n",
     "is_executing": false
    }
   }
  },
  {
   "cell_type": "code",
   "execution_count": 52,
   "outputs": [
    {
     "traceback": [
      "\u001b[1;31m---------------------------------------------------------------------------\u001b[0m",
      "\u001b[1;31mNameError\u001b[0m                                 Traceback (most recent call last)",
      "\u001b[1;32m<ipython-input-52-074b254febb2>\u001b[0m in \u001b[0;36m<module>\u001b[1;34m\u001b[0m\n\u001b[0;32m      3\u001b[0m \u001b[1;32mfrom\u001b[0m \u001b[0mmlxtend\u001b[0m\u001b[1;33m.\u001b[0m\u001b[0mplotting\u001b[0m \u001b[1;32mimport\u001b[0m \u001b[0mplot_confusion_matrix\u001b[0m\u001b[1;33m\u001b[0m\u001b[1;33m\u001b[0m\u001b[0m\n\u001b[0;32m      4\u001b[0m \u001b[1;33m\u001b[0m\u001b[0m\n\u001b[1;32m----> 5\u001b[1;33m binary = np.array([[true_positives_count, false_negatives],\n\u001b[0m\u001b[0;32m      6\u001b[0m                    [false_positives_count, true_negatives]])\n\u001b[0;32m      7\u001b[0m \u001b[1;33m\u001b[0m\u001b[0m\n",
      "\u001b[1;31mNameError\u001b[0m: name 'true_positives_count' is not defined"
     ],
     "ename": "NameError",
     "evalue": "name 'true_positives_count' is not defined",
     "output_type": "error"
    }
   ],
   "source": [
    "import numpy as np\n",
    "import matplotlib.pyplot as plt\n",
    "from mlxtend.plotting import plot_confusion_matrix\n",
    "\n",
    "binary = np.array([[true_positives_count, false_negatives],\n",
    "                   [false_positives_count, true_negatives]])\n",
    "\n",
    "fig, ax = plot_confusion_matrix(conf_mat=binary,\n",
    "                                show_absolute=True,\n",
    "                                show_normed=True,\n",
    "                                colorbar=True)\n",
    "plt.show()"
   ],
   "metadata": {
    "collapsed": false,
    "pycharm": {
     "name": "#%%\n",
     "is_executing": false
    }
   }
  },
  {
   "cell_type": "code",
   "execution_count": 53,
   "outputs": [
    {
     "traceback": [
      "\u001b[1;36m  File \u001b[1;32m\"<ipython-input-53-af769fc16c28>\"\u001b[1;36m, line \u001b[1;32m1\u001b[0m\n\u001b[1;33m    d'uplicate_indices = {}\u001b[0m\n\u001b[1;37m                           ^\u001b[0m\n\u001b[1;31mSyntaxError\u001b[0m\u001b[1;31m:\u001b[0m EOL while scanning string literal\n"
     ],
     "ename": "SyntaxError",
     "evalue": "EOL while scanning string literal (<ipython-input-53-af769fc16c28>, line 1)",
     "output_type": "error"
    }
   ],
   "source": [
    "d'uplicate_indices = {}\n",
    "duplicates_str_1 = ['address', 'city', 'phone']\n",
    "duplicates_str_2 = ['address', 'name', 'phone']\n",
    "duplicates_str_3 = ['address', 'city', 'name']\n",
    "duplicates_str_4 = ['name', 'city', 'phone']\n",
    "\n",
    "for row1_idx, row1 in restaurant_data.iterrows(): \n",
    "    cur_index = str(row1_idx)\n",
    "    duplicate_indices[cur_index] = []\n",
    "    row_1_imp_cols_1 = row1[duplicates_str_1]\n",
    "    row_1_imp_cols_2 = row1[duplicates_str_2]\n",
    "    row_1_imp_cols_3 = row1[duplicates_str_3]\n",
    "    row_1_imp_cols_4 = row1[duplicates_str_4]\n",
    "    for row2 in range(row1_idx + 1, len(restaurant_data)):\n",
    "        row_2_imp_cols_1 = restaurant_data.loc[row2, duplicates_str_1]\n",
    "        row_2_imp_cols_2 = restaurant_data.loc[row2, duplicates_str_2]\n",
    "        row_2_imp_cols_3 = restaurant_data.loc[row2, duplicates_str_3]\n",
    "        row_2_imp_cols_4 = restaurant_data.loc[row2, duplicates_str_4]\n",
    "        if (row_1_imp_cols_1.equals(row_2_imp_cols_1) or \n",
    "                row_1_imp_cols_2.equals(row_2_imp_cols_2) or    \n",
    "                row_1_imp_cols_3.equals(row_2_imp_cols_3) or \n",
    "                row_1_imp_cols_4.equals(row_2_imp_cols_4)):\n",
    "                    duplicate_indices[cur_index].append(row2)\n",
    "                    print('dup found')"
   ],
   "metadata": {
    "collapsed": false,
    "pycharm": {
     "name": "#%%\n",
     "is_executing": false
    }
   }
  },
  {
   "cell_type": "code",
   "execution_count": null,
   "outputs": [],
   "source": [
    "duplicate_indices\n"
   ],
   "metadata": {
    "collapsed": false,
    "pycharm": {
     "name": "#%%\n",
     "is_executing": false
    }
   }
  },
  {
   "cell_type": "code",
   "execution_count": 54,
   "outputs": [
    {
     "data": {
      "text/plain": "      id                 name             address       city       phone  \\\nid                                                                         \n555  555  lillie langtrys      129 fremont street  las vegas  7023857111   \n553  553  golden nugget hotel  129 fremont street  las vegas  7023857111   \n784  784  stefanos             129 fremont street  las vegas  7023857111   \n\n        type  \nid            \n555  asian    \n553  buffets  \n784  italian  ",
      "text/html": "<div>\n<style scoped>\n    .dataframe tbody tr th:only-of-type {\n        vertical-align: middle;\n    }\n\n    .dataframe tbody tr th {\n        vertical-align: top;\n    }\n\n    .dataframe thead th {\n        text-align: right;\n    }\n</style>\n<table border=\"1\" class=\"dataframe\">\n  <thead>\n    <tr style=\"text-align: right;\">\n      <th></th>\n      <th>id</th>\n      <th>name</th>\n      <th>address</th>\n      <th>city</th>\n      <th>phone</th>\n      <th>type</th>\n    </tr>\n    <tr>\n      <th>id</th>\n      <th></th>\n      <th></th>\n      <th></th>\n      <th></th>\n      <th></th>\n      <th></th>\n    </tr>\n  </thead>\n  <tbody>\n    <tr>\n      <th>555</th>\n      <td>555</td>\n      <td>lillie langtrys</td>\n      <td>129 fremont street</td>\n      <td>las vegas</td>\n      <td>7023857111</td>\n      <td>asian</td>\n    </tr>\n    <tr>\n      <th>553</th>\n      <td>553</td>\n      <td>golden nugget hotel</td>\n      <td>129 fremont street</td>\n      <td>las vegas</td>\n      <td>7023857111</td>\n      <td>buffets</td>\n    </tr>\n    <tr>\n      <th>784</th>\n      <td>784</td>\n      <td>stefanos</td>\n      <td>129 fremont street</td>\n      <td>las vegas</td>\n      <td>7023857111</td>\n      <td>italian</td>\n    </tr>\n  </tbody>\n</table>\n</div>"
     },
     "metadata": {},
     "output_type": "execute_result",
     "execution_count": 54
    }
   ],
   "source": [
    "restaurant_data.loc[[555, 553, 784]]\n"
   ],
   "metadata": {
    "collapsed": false,
    "pycharm": {
     "name": "#%%\n",
     "is_executing": false
    }
   }
  },
  {
   "cell_type": "code",
   "execution_count": null,
   "outputs": [],
   "source": [
    "\n"
   ],
   "metadata": {
    "collapsed": false,
    "pycharm": {
     "name": "#%%\n",
     "is_executing": false
    }
   }
  }
 ],
 "metadata": {
  "kernelspec": {
   "display_name": "Python 3",
   "language": "python",
   "name": "python3"
  },
  "language_info": {
   "codemirror_mode": {
    "name": "ipython",
    "version": 2
   },
   "file_extension": ".py",
   "mimetype": "text/x-python",
   "name": "python",
   "nbconvert_exporter": "python",
   "pygments_lexer": "ipython2",
   "version": "2.7.6"
  },
  "pycharm": {
   "stem_cell": {
    "cell_type": "raw",
    "source": [],
    "metadata": {
     "collapsed": false
    }
   }
  }
 },
 "nbformat": 4,
 "nbformat_minor": 0
}