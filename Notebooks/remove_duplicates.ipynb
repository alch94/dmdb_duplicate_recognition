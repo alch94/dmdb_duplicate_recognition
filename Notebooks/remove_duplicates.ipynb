{
 "cells": [
  {
   "cell_type": "code",
   "execution_count": 2,
   "metadata": {
    "collapsed": true,
    "pycharm": {
     "is_executing": false,
     "name": "#%%\n"
    }
   },
   "outputs": [],
   "source": [
    "# Load data and set pandas options to display the full dataset if needed\n",
    "import re\n",
    "import pandas as pd\n",
    "from Notebooks import utils\n",
    "\n",
    "pd.set_option('display.max_columns', None)  \n",
    "pd.set_option('display.max_rows', None)  \n",
    "pd.set_option('display.max_colwidth', -1)  \n",
    "restaurant_data = pd.read_csv('../Data/restaurants.tsv', sep='\\t')\n",
    "restaurant_data = restaurant_data.set_index(['id'], drop=False)\n",
    "restaurant_data.head()\n",
    "# Load the gold standard duplicates to calculate metrics\n",
    "true_duplicates = pd.read_csv('../Data/restaurants_DPL.tsv', sep='\\t')"
   ]
  },
  {
   "cell_type": "code",
   "execution_count": 3,
   "outputs": [
    {
     "name": "stdout",
     "text": [
      "Duplicates without any preprocessing\n",
      "Duplicates in address: 92\n",
      "Duplicates in name: 88\n",
      "Duplicates in phone: 7\n",
      "Duplicates in city: 815\n",
      "Duplicates in address name and phone: 0\n",
      "Duplicates in address city and name: 24\n",
      "Duplicates in name city and phone0\n",
      "Duplicates in address, city, name and phone: 0\n",
      "duplicates in 3 columns of address, city, name and phone24\n"
     ],
     "output_type": "stream"
    }
   ],
   "source": [
    "print('Duplicates without any preprocessing')\n",
    "duplicates_bool = utils.get_duplicates_bool(restaurant_data)"
   ],
   "metadata": {
    "collapsed": false,
    "pycharm": {
     "name": "#%%\n",
     "is_executing": false
    }
   }
  },
  {
   "cell_type": "code",
   "execution_count": 4,
   "outputs": [
    {
     "name": "stdout",
     "text": [
      "Metrics without any preprocessing\n",
      "All entries in original dataset: 864\n",
      "Detected duplicates (all): 24\n",
      "Real duplicates (from gold standard): 112\n",
      "True positives: 24\n",
      "True negatives: 752\n",
      "False positives: 0\n",
      "False negatives: 88\n",
      "Accuracy 0.8981481481481481\n",
      "Precision: 1.0\n",
      "Recall: 0.21428571428571427\n"
     ],
     "output_type": "stream"
    }
   ],
   "source": [
    "print('Metrics without any preprocessing')\n",
    "detected_duplicates = restaurant_data[duplicates_bool == True]\n",
    "utils.print_metrics(restaurant_data, detected_duplicates, true_duplicates)"
   ],
   "metadata": {
    "collapsed": false,
    "pycharm": {
     "name": "#%%\n",
     "is_executing": false
    }
   }
  },
  {
   "cell_type": "code",
   "execution_count": 5,
   "outputs": [
    {
     "name": "stdout",
     "text": [
      "<class 'pandas.core.frame.DataFrame'>\n",
      "Int64Index: 864 entries, 1 to 864\n",
      "Data columns (total 6 columns):\n",
      "id         864 non-null int64\n",
      "name       864 non-null object\n",
      "address    864 non-null object\n",
      "city       864 non-null object\n",
      "phone      864 non-null object\n",
      "type       863 non-null object\n",
      "dtypes: int64(1), object(5)\n",
      "memory usage: 47.2+ KB\n"
     ],
     "output_type": "stream"
    }
   ],
   "source": [
    "# Get info about the data and datatypes of the DataFrame\n",
    "restaurant_data.info()"
   ],
   "metadata": {
    "collapsed": false,
    "pycharm": {
     "name": "#%%\n",
     "is_executing": false
    }
   }
  },
  {
   "cell_type": "code",
   "execution_count": 6,
   "outputs": [],
   "source": [
    "# Remove special characters from phone, address, name and city to detect duplicates\n",
    "restaurant_data = utils.remove_special_characters(restaurant_data)\n",
    "restaurant_data = utils.trim_multiple_blanks(restaurant_data)"
   ],
   "metadata": {
    "collapsed": false,
    "pycharm": {
     "name": "#%%\n",
     "is_executing": false
    }
   }
  },
  {
   "cell_type": "code",
   "execution_count": 7,
   "outputs": [],
   "source": [
    "# Remove the direction in address and name because it's inconsistent over the dataset\n",
    "direction_regex = re.compile('(( |^)((south)|(east)|(west)|(north)|(ne)|(se)|(nw)|(sw)|s|w|e|n)( |$))')\n",
    "restaurant_data.address = restaurant_data.address.map(lambda x: direction_regex.sub(' ', x))\n",
    "restaurant_data.name = restaurant_data.name.map(lambda x: direction_regex.sub(' ', x))\n",
    "restaurant_data.city = restaurant_data.city.map(lambda x: direction_regex.sub(' ', x))\n",
    "restaurant_data = utils.trim_multiple_blanks(restaurant_data)"
   ],
   "metadata": {
    "collapsed": false,
    "pycharm": {
     "name": "#%%\n",
     "is_executing": false
    }
   }
  },
  {
   "cell_type": "code",
   "execution_count": 8,
   "outputs": [
    {
     "name": "stdout",
     "text": [
      "Duplicates after removing generic clearing\n",
      "Duplicates in address: 103\n",
      "Duplicates in name: 91\n",
      "Duplicates in phone: 116\n",
      "Duplicates in city: 815\n",
      "Duplicates in address name and phone: 51\n",
      "Duplicates in address city and name: 26\n",
      "Duplicates in name city and phone41\n",
      "Duplicates in address, city, name and phone: 25\n",
      "duplicates in 3 columns of address, city, name and phone68\n"
     ],
     "output_type": "stream"
    }
   ],
   "source": [
    "print('Duplicates after removing generic clearing')\n",
    "duplicates_bool = utils.get_duplicates_bool(restaurant_data)"
   ],
   "metadata": {
    "collapsed": false,
    "pycharm": {
     "name": "#%%\n",
     "is_executing": false
    }
   }
  },
  {
   "cell_type": "code",
   "execution_count": 9,
   "outputs": [
    {
     "name": "stdout",
     "text": [
      "Metrics after generic clearing\n",
      "All entries in original dataset: 864\n",
      "Detected duplicates (all): 68\n",
      "Real duplicates (from gold standard): 112\n",
      "True positives: 68\n",
      "True negatives: 752\n",
      "False positives: 0\n",
      "False negatives: 44\n",
      "Accuracy 0.9490740740740741\n",
      "Precision: 1.0\n",
      "Recall: 0.6071428571428571\n"
     ],
     "output_type": "stream"
    }
   ],
   "source": [
    "print('Metrics after generic clearing')\n",
    "detected_duplicates = restaurant_data[duplicates_bool == True]\n",
    "utils.print_metrics(restaurant_data, detected_duplicates, true_duplicates)"
   ],
   "metadata": {
    "collapsed": false,
    "pycharm": {
     "name": "#%%\n",
     "is_executing": false
    }
   }
  },
  {
   "cell_type": "code",
   "execution_count": 10,
   "outputs": [],
   "source": [
    "# Map multiple occurrences of the same city in different writing\n",
    "# It could also be a good idea to map all city parts to one city (i.e. hollywood -> los angeles)\n",
    "city_map = {'la': 'los angeles', 'new york city': 'new york'}\n",
    "restaurant_data.city = restaurant_data.city.replace(city_map)"
   ],
   "metadata": {
    "collapsed": false,
    "pycharm": {
     "name": "#%%\n",
     "is_executing": false
    }
   }
  },
  {
   "cell_type": "code",
   "execution_count": 11,
   "outputs": [
    {
     "name": "stdout",
     "text": [
      "Duplicates after clearing city\n",
      "Duplicates in address: 103\n",
      "Duplicates in name: 91\n",
      "Duplicates in phone: 116\n",
      "Duplicates in city: 817\n",
      "Duplicates in address name and phone: 51\n",
      "Duplicates in address city and name: 49\n",
      "Duplicates in name city and phone78\n",
      "Duplicates in address, city, name and phone: 48\n",
      "duplicates in 3 columns of address, city, name and phone82\n"
     ],
     "output_type": "stream"
    }
   ],
   "source": [
    "print('Duplicates after clearing city')\n",
    "duplicates_bool = utils.get_duplicates_bool(restaurant_data)"
   ],
   "metadata": {
    "collapsed": false,
    "pycharm": {
     "name": "#%%\n",
     "is_executing": false
    }
   }
  },
  {
   "cell_type": "code",
   "execution_count": 12,
   "outputs": [
    {
     "name": "stdout",
     "text": [
      "Metrics after clearing city\n",
      "All entries in original dataset: 864\n",
      "Detected duplicates (all): 82\n",
      "Real duplicates (from gold standard): 112\n",
      "True positives: 82\n",
      "True negatives: 752\n",
      "False positives: 0\n",
      "False negatives: 30\n",
      "Accuracy 0.9652777777777778\n",
      "Precision: 1.0\n",
      "Recall: 0.7321428571428571\n"
     ],
     "output_type": "stream"
    }
   ],
   "source": [
    "print('Metrics after clearing city')\n",
    "detected_duplicates = restaurant_data[duplicates_bool == True]\n",
    "utils.print_metrics(restaurant_data, detected_duplicates, true_duplicates)"
   ],
   "metadata": {
    "collapsed": false,
    "pycharm": {
     "name": "#%%\n",
     "is_executing": false
    }
   }
  },
  {
   "cell_type": "code",
   "execution_count": 13,
   "outputs": [
    {
     "name": "stdout",
     "text": [
      "length of unique addresses before clearing 761\n"
     ],
     "output_type": "stream"
    }
   ],
   "source": [
    "print('length of unique addresses before clearing ' + str(len(restaurant_data.address.unique())))"
   ],
   "metadata": {
    "collapsed": false,
    "pycharm": {
     "name": "#%%\n",
     "is_executing": false
    }
   }
  },
  {
   "cell_type": "code",
   "execution_count": 14,
   "outputs": [],
   "source": [
    "# Remove unnecessary explaination parts from the address string for a more accurate duplicate detection\n",
    "restaurant_data['address'] = restaurant_data['address'].str.split(r' between| off| near| at| in').str[0]"
   ],
   "metadata": {
    "collapsed": false,
    "pycharm": {
     "name": "#%%\n",
     "is_executing": false
    }
   }
  },
  {
   "cell_type": "code",
   "execution_count": 15,
   "outputs": [],
   "source": [
    "# Remove appendixes of numbers because they are inconsistent over the dataset\n",
    "restaurant_data.address = restaurant_data.address.map(lambda x: re.sub(r\"(?<=\\d)(st|nd|rd|th)\\b\", '', x))"
   ],
   "metadata": {
    "collapsed": false,
    "pycharm": {
     "name": "#%%\n",
     "is_executing": false
    }
   }
  },
  {
   "cell_type": "code",
   "execution_count": 16,
   "outputs": [],
   "source": [
    "# Standardize the address even more\n",
    "address_num_map = {'first': '1', 'second': '2', 'third': '3', 'fourth': '4', 'fifth': '5', 'sixth': '6',\n",
    "                   'seventh': '7','eighth' : '8', 'ninth': '9', 'tenth': '10', 'eleventh': '11', 'twelfth': '12'}\n",
    "address_name_map = {'la': 'los angeles', 'ave': 'avenue',  'rd': 'road', 'blv': 'boulevard', \n",
    "                    'blvd': 'boulevard', 'st': 'street'}\n",
    "address_map = {**address_name_map, **address_num_map}\n",
    "restaurant_data.address = restaurant_data.address.map(lambda x: ' '.join([address_map.get(i, i) for i in x.split()]))"
   ],
   "metadata": {
    "collapsed": false,
    "pycharm": {
     "name": "#%%\n",
     "is_executing": false
    }
   }
  },
  {
   "cell_type": "code",
   "execution_count": 17,
   "outputs": [
    {
     "name": "stdout",
     "text": [
      "Unique addresses after clearing 739\n"
     ],
     "output_type": "stream"
    }
   ],
   "source": [
    "print('Unique addresses after clearing ' + str(len(restaurant_data.address.unique())))"
   ],
   "metadata": {
    "collapsed": false,
    "pycharm": {
     "name": "#%%\n",
     "is_executing": false
    }
   }
  },
  {
   "cell_type": "code",
   "execution_count": 18,
   "outputs": [
    {
     "name": "stdout",
     "text": [
      "Duplicates after clearing the address\n",
      "Duplicates in address: 125\n",
      "Duplicates in name: 91\n",
      "Duplicates in phone: 116\n",
      "Duplicates in city: 817\n",
      "Duplicates in address name and phone: 68\n",
      "Duplicates in address city and name: 67\n",
      "Duplicates in name city and phone78\n",
      "Duplicates in address, city, name and phone: 65\n",
      "duplicates in 3 columns of address, city, name and phone83\n"
     ],
     "output_type": "stream"
    }
   ],
   "source": [
    "print('Duplicates after clearing the address')\n",
    "duplicates_bool = utils.get_duplicates_bool(restaurant_data)"
   ],
   "metadata": {
    "collapsed": false,
    "pycharm": {
     "name": "#%%\n",
     "is_executing": false
    }
   }
  },
  {
   "cell_type": "code",
   "execution_count": 19,
   "outputs": [
    {
     "name": "stdout",
     "text": [
      "Metrics after clearing the address\n",
      "All entries in original dataset: 864\n",
      "Detected duplicates (all): 83\n",
      "Real duplicates (from gold standard): 112\n",
      "True positives: 83\n",
      "True negatives: 752\n",
      "False positives: 0\n",
      "False negatives: 29\n",
      "Accuracy 0.9664351851851852\n",
      "Precision: 1.0\n",
      "Recall: 0.7410714285714286\n"
     ],
     "output_type": "stream"
    }
   ],
   "source": [
    "print('Metrics after clearing the address')\n",
    "detected_duplicates = restaurant_data[duplicates_bool == True]\n",
    "utils.print_metrics(restaurant_data, detected_duplicates, true_duplicates)"
   ],
   "metadata": {
    "collapsed": false,
    "pycharm": {
     "name": "#%%\n",
     "is_executing": false
    }
   }
  },
  {
   "cell_type": "code",
   "execution_count": 20,
   "outputs": [
    {
     "name": "stdout",
     "text": [
      "Unique names before clearing name: 773\n"
     ],
     "output_type": "stream"
    }
   ],
   "source": [
    "print('Unique names before clearing name: ' + str(len(restaurant_data.name.unique())))"
   ],
   "metadata": {
    "collapsed": false,
    "pycharm": {
     "name": "#%%\n",
     "is_executing": false
    }
   }
  },
  {
   "cell_type": "code",
   "execution_count": 21,
   "outputs": [],
   "source": [
    "unique_city_list = restaurant_data.city.unique()\n",
    "restaurant_data.name = restaurant_data.name.str.split(r' between| off| near| at| in| of').str[0]\n",
    "city_regex = re.compile('the|restaurant|and|new york city|' +'|'.join(map(re.escape, unique_city_list)))\n",
    "restaurant_data.name = [city_regex.sub('', name) for name in restaurant_data.name]"
   ],
   "metadata": {
    "collapsed": false,
    "pycharm": {
     "name": "#%%\n",
     "is_executing": false
    }
   }
  },
  {
   "cell_type": "code",
   "execution_count": 22,
   "outputs": [],
   "source": [
    "restaurant_data.name = restaurant_data.name.apply(lambda x: ' '.join(sorted(x.split(' '))))\n",
    "restaurant_data = utils.trim_multiple_blanks(restaurant_data)"
   ],
   "metadata": {
    "collapsed": false,
    "pycharm": {
     "name": "#%%\n",
     "is_executing": false
    }
   }
  },
  {
   "cell_type": "code",
   "execution_count": 23,
   "outputs": [
    {
     "name": "stdout",
     "text": [
      "Unique addresses after clearing name: 739\n"
     ],
     "output_type": "stream"
    }
   ],
   "source": [
    "print('Unique addresses after clearing name: ' + str(len(restaurant_data.address.unique())))"
   ],
   "metadata": {
    "collapsed": false,
    "pycharm": {
     "name": "#%%\n",
     "is_executing": false
    }
   }
  },
  {
   "cell_type": "code",
   "execution_count": 24,
   "outputs": [
    {
     "name": "stdout",
     "text": [
      "Duplicates after clearing name\n",
      "Duplicates in address: 125\n",
      "Duplicates in name: 105\n",
      "Duplicates in phone: 116\n",
      "Duplicates in city: 817\n",
      "Duplicates in address name and phone: 76\n",
      "Duplicates in address city and name: 73\n",
      "Duplicates in name city and phone84\n",
      "Duplicates in address, city, name and phone: 71\n",
      "duplicates in 3 columns of address, city, name and phone91\n"
     ],
     "output_type": "stream"
    }
   ],
   "source": [
    "print('Duplicates after clearing name')\n",
    "duplicates_bool = utils.get_duplicates_bool(restaurant_data)"
   ],
   "metadata": {
    "collapsed": false,
    "pycharm": {
     "name": "#%%\n",
     "is_executing": false
    }
   }
  },
  {
   "cell_type": "code",
   "execution_count": 25,
   "outputs": [
    {
     "name": "stdout",
     "text": [
      "Metrics after clearing\n",
      "All entries in original dataset: 864\n",
      "Detected duplicates (all): 91\n",
      "Real duplicates (from gold standard): 112\n",
      "True positives: 91\n",
      "True negatives: 752\n",
      "False positives: 0\n",
      "False negatives: 21\n",
      "Accuracy 0.9756944444444444\n",
      "Precision: 1.0\n",
      "Recall: 0.8125\n"
     ],
     "output_type": "stream"
    }
   ],
   "source": [
    "print('Metrics after clearing')\n",
    "detected_duplicates = restaurant_data[duplicates_bool == True]\n",
    "detected_non_duplicates = restaurant_data[duplicates_bool == False]\n",
    "utils.print_metrics(restaurant_data, detected_duplicates, true_duplicates)"
   ],
   "metadata": {
    "collapsed": false,
    "pycharm": {
     "name": "#%%\n",
     "is_executing": false
    }
   }
  },
  {
   "cell_type": "code",
   "execution_count": 26,
   "outputs": [
    {
     "data": {
      "text/plain": "      id                                 name  \\\nid                                              \n1    1    arnie morton                          \n3    3    art delicatessen                      \n4    4    art deli                              \n5    5    belair hotel                          \n7    7    bizou cafe                            \n9    9    campanile                             \n11   11   chinois main on                       \n13   13   citrus                                \n15   15   fenix                                 \n17   17   granita                               \n19   19    alley grill on                       \n20   20    grill                                \n21   21    katsu                                \n22   22   katsu                                 \n23   23   lorangerie                            \n25   25   chardonnay le                         \n26   26    chardonnay le                        \n27   27   loca veneta                           \n29   29   matsuhisa                             \n31   31    palm                                 \n33   33   patina                                \n35   35    original philippe                    \n37   37   bistro pinot                          \n39   39   il rex ristorante                     \n41   41   spago                                 \n42   42    spago                                \n43   43   valentino                             \n45   45   chinese cuisine gourmet kang yujean   \n46   46   kang yujean                           \n47   47   21 club                               \n49   49   aquavit                               \n51   51   aureole                               \n53   53   cafelo                                \n55   55   artistes cafe des                     \n57   57   carmine                               \n59   59   carnegie deli                         \n61   61   chanterelle                           \n63   63   daniel                                \n65   65   dawat                                 \n67   67   felidia                               \n69   69   four grill room seasons               \n70   70   four seasons                          \n71   71   bar gotham grill                      \n73   73   gramercy tavern                       \n75   75   isl spice                             \n77   77   jo jo                                 \n79   79   caravelle la                          \n81   81   basque cote la                        \n83   83   bernardin le                          \n85   85   celebrites les                        \n87   87   lespinasse                            \n88   88    lespinasse                           \n89   89   lutece                                \n91   91   club manhattan ocean                  \n93   93   march                                 \n95   95   grill mesa                            \n97   97   cocina mi                             \n99   99   montrachet                            \n101  101  oceana                                \n103  103  avenue cafe park                      \n104  104   avenue cafe park                     \n105  105  petrossian                            \n107  107  picholine                             \n109  109  pisces                                \n111  111  rainbow room                          \n113  113  cafe river                            \n115  115  domenico san                          \n117  117  avenue deli second                    \n119  119  seryna                                \n121  121   lee shun                             \n122  122  lee palace shun                       \n123  123  sign                                  \n125  125  smith wollensky                       \n127  127   green on tavern                      \n129  129  nick uncle                            \n131  131  cafe square union                     \n133  133  virgil                                \n134  134  bbq real virgil                       \n135  135  chin                                  \n137  137  cafe coyote                           \n138  138  cafes coyote vegas                    \n139  139  le montrachet                         \n140  140  bistro le montrachet                  \n141  141  court palace                          \n143  143  grille second street                  \n144  144  grill second street                   \n145  145  house steak                           \n146  146   house steak                          \n147  147  tillerman                             \n148  148   tillerman                            \n149  149  abruzzi                               \n151  151  bacchanalia                           \n153  153  bone                                  \n154  154   bone                                 \n155  155  brasserie coze le                     \n157  157  buckhead diner                        \n159  159  ciboulette                            \n160  160   ciboulette                           \n161  161  delectables                           \n163  163  georgia grille                        \n\n                                                  address           city  \\\nid                                                                         \n1    435 los angeles cienega boulevard                     los angeles     \n3    12224 ventura boulevard                               studio city     \n4    12224 ventura boulevard                               studio city     \n5    701 stone canyon road                                 bel air         \n7    14016 ventura boulevard                               sherman oaks    \n9    624 los angeles brea avenue                           los angeles     \n11   2709 main street                                      santa monica    \n13   6703 melrose avenue                                   los angeles     \n15   8358 sunset boulevard                                 hollywood       \n17   23725 malibu road                                     malibu          \n19   9560 dayton way                                       los angeles     \n20   9560 dayton way                                       beverly hills   \n21   1972 hillhurst avenue                                 los angeles     \n22   1972 hillhurst avenue                                 los feliz       \n23   903 los angeles cienega boulevard                     los angeles     \n25   8284 melrose avenue                                   los angeles     \n26   8284 melrose avenue                                   los angeles     \n27   3 street                                              los angeles     \n29   129 los angeles cienega boulevard                     beverly hills   \n31   9001 santa monica boulevard                           los angeles     \n33   5955 melrose avenue                                   los angeles     \n35   1001 alameda street                                   los angeles     \n37   12969 ventura boulevard                               los angeles     \n39   617 olive street                                      los angeles     \n41   1114 horn avenue                                      los angeles     \n42   8795 sunset boulevard                                  hollywood      \n43   3115 pico boulevard                                   santa monica    \n45   67 raymond avenue                                     los angeles     \n46   67 raymond avenue                                     pasadena        \n47   21 52 street                                          new york        \n49   13 54 street                                          new york        \n51   34 61 street                                          new york        \n53   201 83 street                                         new york        \n55   1 67 street                                           new york        \n57   2450 broadway                                         new york        \n59   854 7 avenue                                          new york        \n61   2 harrison street                                     new york        \n63   20 76 street                                          new york        \n65   210 58 street                                         new york        \n67   243 58 street                                         new york        \n69   99 52 street                                          new york        \n70   99 52 street                                          new york        \n71   12 12 street                                          new york        \n73   42 20 street                                          new york        \n75   402 44 street                                         new york        \n77   160 64 street                                         new york        \n79   33 55 street                                          new york        \n81   60 55 street                                          new york        \n83   155 51 street                                         new york        \n85   160 central park                                      new york        \n87   2 55 street                                           new york        \n88   2 55 street                                           new york        \n89   249 50 street                                         new york        \n91   57 58 street                                          new york        \n93   405 58 street                                         new york        \n95   102 5 avenue                                          new york        \n97   57 jane street                                        new york        \n99   239 broadway                                          new york        \n101  55 54 street                                          new york        \n103  100 63 street                                         new york        \n104  100 63 street                                         new york        \n105  182 58 street                                         new york        \n107  35 64 street                                          new york        \n109  95 avenue a                                           new york        \n111  30 rockefeller plaza                                  new york        \n113  1 water street                                        brooklyn        \n115  240 central park                                      new york        \n117  156 2 avenue                                          new york        \n119  11 53 street                                          new york        \n121  43 65 street                                          new york        \n122  155 55 street                                         new york        \n123  1110 3 avenue                                         new york        \n125  201 49 street                                         new york        \n127  in central park                                       new york        \n129  747 9 avenue                                          new york        \n131  21 16 street                                          new york        \n133  152 44 street                                         new york        \n134  152 44 street                                         new york        \n135  3200 las vegas boulevard                              las vegas       \n137  3799 las vegas boulevard                              las vegas       \n138  3799 las vegas boulevard                              las vegas       \n139  3000 paradise road                                    las vegas       \n140  3000 paradise road                                    las vegas       \n141  3570 las vegas boulevard                              las vegas       \n143  200 fremont street                                    las vegas       \n144  200 fremont street                                    las vegas       \n145  2880 las vegas boulevard                              las vegas       \n146  2880 las vegas boulevard                              las vegas       \n147  2245 flamingo road                                    las vegas       \n148  2245 flamingo road                                    las vegas       \n149  2355 peachtree road peachtree battle shopping center  atlanta         \n151  3125 piedmont road                                    atlanta         \n153  3130 piedmont road                                    atlanta         \n154  3130 piedmont road                                    atlanta         \n155  3393 peachtree road lenox square mall                 atlanta         \n157  3073 piedmont road                                    atlanta         \n159  1529 piedmont avenue                                  atlanta         \n160  1529 piedmont avenue                                  atlanta         \n161  1 margaret mitchell sq                                atlanta         \n163  2290 peachtree road peachtree square shopping center  atlanta         \n\n          phone                      type  \nid                                         \n1    3102461501  american                  \n3    8187621221  american                  \n4    8187621221  delis                     \n5    3104721211  californian               \n7    8187883536  french                    \n9    2139381447  american                  \n11   3103929025  french                    \n13   2138570034  californian               \n15   2138486677  american                  \n17   3104560488  californian               \n19   3102760615  american                  \n20   3102760615  american (traditional)    \n21   2136651891  asian                     \n22   2136651891  japanese                  \n23   3106529770  french                    \n25   2136558880  french                    \n26   2136558880  french bistro             \n27   3102741893  italian                   \n29   3106599639  asian                     \n31   3105508811  american                  \n33   2134671108  californian               \n35   2136283781  american                  \n37   8189900500  french                    \n39   2136272300  italian                   \n41   3106524025  californian               \n42   3106524025  californian               \n43   3108294313  italian                   \n45   8185850855  asian                     \n46   8185850855  chinese                   \n47   2125827200  american                  \n49   2123077311  continental               \n51   2123191660  american                  \n53   2124966031  coffee bar                \n55   2128773500  continental               \n57   2123622200  italian                   \n59   2127572245  delicatessen              \n61   2129666960  american                  \n63   2122880033  french                    \n65   2123557555  asian                     \n67   2127581479  italian                   \n69   2127549494  american                  \n70   2127549494  american (new)            \n71   2126204020  american                  \n73   2124770777  american                  \n75   2127651737  tel caribbean             \n77   2122235656  american                  \n79   2125864252  french                    \n81   2126886525  french                    \n83   2124891515  french                    \n85   2124845113  french                    \n87   2123396719  american                  \n88   2123396719  asian                     \n89   2127522225  french                    \n91   2123717777  seafood                   \n93   2127546272  american                  \n95   2128077400  american                  \n97   2126278273  mexican                   \n99   2122192777  french                    \n101  2127595941  seafood                   \n103  2126441900  american                  \n104  2126441900  american (new)            \n105  2122452214  french                    \n107  2127248585  mediterranean             \n109  2122606660  seafood                   \n111  2126325000  or 212/632-5100 american  \n113  7185225200  american                  \n115  2122655959  italian                   \n117  2126770606  delicatessen              \n119  2129809393  asian                     \n121  2123718844  asian                     \n122  2123718844  chinese                   \n123  2128618080  american                  \n125  2127531530  american                  \n127  2128733200  american                  \n129  2123151726  mediterranean             \n131  2122434020  american                  \n133  2129219494  american                  \n134  2129219494  bbq                       \n135  7027338899  asian                     \n137  7028917349  southwestern              \n138  7028917349  southwestern              \n139  7027325111  continental               \n140  7027325651  french bistro             \n141  7027317547  continental               \n143  7023853232  seafood                   \n144  7023856277  pacific rim               \n145  7027340410  steak houses              \n146  7027340410  steakhouses               \n147  7027314036  seafood                   \n148  7027314036  steakhouses               \n149  4042618186  italian                   \n151  4043650410  international             \n153  4042372663  american                  \n154  4042372663  steakhouses               \n155  4042661440  french                    \n157  4042623336  american                  \n159  4048747600  french                    \n160  4048747600  french (new)              \n161  4046812909  american                  \n163  4043523517  american                  ",
      "text/html": "<div>\n<style scoped>\n    .dataframe tbody tr th:only-of-type {\n        vertical-align: middle;\n    }\n\n    .dataframe tbody tr th {\n        vertical-align: top;\n    }\n\n    .dataframe thead th {\n        text-align: right;\n    }\n</style>\n<table border=\"1\" class=\"dataframe\">\n  <thead>\n    <tr style=\"text-align: right;\">\n      <th></th>\n      <th>id</th>\n      <th>name</th>\n      <th>address</th>\n      <th>city</th>\n      <th>phone</th>\n      <th>type</th>\n    </tr>\n    <tr>\n      <th>id</th>\n      <th></th>\n      <th></th>\n      <th></th>\n      <th></th>\n      <th></th>\n      <th></th>\n    </tr>\n  </thead>\n  <tbody>\n    <tr>\n      <th>1</th>\n      <td>1</td>\n      <td>arnie morton</td>\n      <td>435 los angeles cienega boulevard</td>\n      <td>los angeles</td>\n      <td>3102461501</td>\n      <td>american</td>\n    </tr>\n    <tr>\n      <th>3</th>\n      <td>3</td>\n      <td>art delicatessen</td>\n      <td>12224 ventura boulevard</td>\n      <td>studio city</td>\n      <td>8187621221</td>\n      <td>american</td>\n    </tr>\n    <tr>\n      <th>4</th>\n      <td>4</td>\n      <td>art deli</td>\n      <td>12224 ventura boulevard</td>\n      <td>studio city</td>\n      <td>8187621221</td>\n      <td>delis</td>\n    </tr>\n    <tr>\n      <th>5</th>\n      <td>5</td>\n      <td>belair hotel</td>\n      <td>701 stone canyon road</td>\n      <td>bel air</td>\n      <td>3104721211</td>\n      <td>californian</td>\n    </tr>\n    <tr>\n      <th>7</th>\n      <td>7</td>\n      <td>bizou cafe</td>\n      <td>14016 ventura boulevard</td>\n      <td>sherman oaks</td>\n      <td>8187883536</td>\n      <td>french</td>\n    </tr>\n    <tr>\n      <th>9</th>\n      <td>9</td>\n      <td>campanile</td>\n      <td>624 los angeles brea avenue</td>\n      <td>los angeles</td>\n      <td>2139381447</td>\n      <td>american</td>\n    </tr>\n    <tr>\n      <th>11</th>\n      <td>11</td>\n      <td>chinois main on</td>\n      <td>2709 main street</td>\n      <td>santa monica</td>\n      <td>3103929025</td>\n      <td>french</td>\n    </tr>\n    <tr>\n      <th>13</th>\n      <td>13</td>\n      <td>citrus</td>\n      <td>6703 melrose avenue</td>\n      <td>los angeles</td>\n      <td>2138570034</td>\n      <td>californian</td>\n    </tr>\n    <tr>\n      <th>15</th>\n      <td>15</td>\n      <td>fenix</td>\n      <td>8358 sunset boulevard</td>\n      <td>hollywood</td>\n      <td>2138486677</td>\n      <td>american</td>\n    </tr>\n    <tr>\n      <th>17</th>\n      <td>17</td>\n      <td>granita</td>\n      <td>23725 malibu road</td>\n      <td>malibu</td>\n      <td>3104560488</td>\n      <td>californian</td>\n    </tr>\n    <tr>\n      <th>19</th>\n      <td>19</td>\n      <td>alley grill on</td>\n      <td>9560 dayton way</td>\n      <td>los angeles</td>\n      <td>3102760615</td>\n      <td>american</td>\n    </tr>\n    <tr>\n      <th>20</th>\n      <td>20</td>\n      <td>grill</td>\n      <td>9560 dayton way</td>\n      <td>beverly hills</td>\n      <td>3102760615</td>\n      <td>american (traditional)</td>\n    </tr>\n    <tr>\n      <th>21</th>\n      <td>21</td>\n      <td>katsu</td>\n      <td>1972 hillhurst avenue</td>\n      <td>los angeles</td>\n      <td>2136651891</td>\n      <td>asian</td>\n    </tr>\n    <tr>\n      <th>22</th>\n      <td>22</td>\n      <td>katsu</td>\n      <td>1972 hillhurst avenue</td>\n      <td>los feliz</td>\n      <td>2136651891</td>\n      <td>japanese</td>\n    </tr>\n    <tr>\n      <th>23</th>\n      <td>23</td>\n      <td>lorangerie</td>\n      <td>903 los angeles cienega boulevard</td>\n      <td>los angeles</td>\n      <td>3106529770</td>\n      <td>french</td>\n    </tr>\n    <tr>\n      <th>25</th>\n      <td>25</td>\n      <td>chardonnay le</td>\n      <td>8284 melrose avenue</td>\n      <td>los angeles</td>\n      <td>2136558880</td>\n      <td>french</td>\n    </tr>\n    <tr>\n      <th>26</th>\n      <td>26</td>\n      <td>chardonnay le</td>\n      <td>8284 melrose avenue</td>\n      <td>los angeles</td>\n      <td>2136558880</td>\n      <td>french bistro</td>\n    </tr>\n    <tr>\n      <th>27</th>\n      <td>27</td>\n      <td>loca veneta</td>\n      <td>3 street</td>\n      <td>los angeles</td>\n      <td>3102741893</td>\n      <td>italian</td>\n    </tr>\n    <tr>\n      <th>29</th>\n      <td>29</td>\n      <td>matsuhisa</td>\n      <td>129 los angeles cienega boulevard</td>\n      <td>beverly hills</td>\n      <td>3106599639</td>\n      <td>asian</td>\n    </tr>\n    <tr>\n      <th>31</th>\n      <td>31</td>\n      <td>palm</td>\n      <td>9001 santa monica boulevard</td>\n      <td>los angeles</td>\n      <td>3105508811</td>\n      <td>american</td>\n    </tr>\n    <tr>\n      <th>33</th>\n      <td>33</td>\n      <td>patina</td>\n      <td>5955 melrose avenue</td>\n      <td>los angeles</td>\n      <td>2134671108</td>\n      <td>californian</td>\n    </tr>\n    <tr>\n      <th>35</th>\n      <td>35</td>\n      <td>original philippe</td>\n      <td>1001 alameda street</td>\n      <td>los angeles</td>\n      <td>2136283781</td>\n      <td>american</td>\n    </tr>\n    <tr>\n      <th>37</th>\n      <td>37</td>\n      <td>bistro pinot</td>\n      <td>12969 ventura boulevard</td>\n      <td>los angeles</td>\n      <td>8189900500</td>\n      <td>french</td>\n    </tr>\n    <tr>\n      <th>39</th>\n      <td>39</td>\n      <td>il rex ristorante</td>\n      <td>617 olive street</td>\n      <td>los angeles</td>\n      <td>2136272300</td>\n      <td>italian</td>\n    </tr>\n    <tr>\n      <th>41</th>\n      <td>41</td>\n      <td>spago</td>\n      <td>1114 horn avenue</td>\n      <td>los angeles</td>\n      <td>3106524025</td>\n      <td>californian</td>\n    </tr>\n    <tr>\n      <th>42</th>\n      <td>42</td>\n      <td>spago</td>\n      <td>8795 sunset boulevard</td>\n      <td>hollywood</td>\n      <td>3106524025</td>\n      <td>californian</td>\n    </tr>\n    <tr>\n      <th>43</th>\n      <td>43</td>\n      <td>valentino</td>\n      <td>3115 pico boulevard</td>\n      <td>santa monica</td>\n      <td>3108294313</td>\n      <td>italian</td>\n    </tr>\n    <tr>\n      <th>45</th>\n      <td>45</td>\n      <td>chinese cuisine gourmet kang yujean</td>\n      <td>67 raymond avenue</td>\n      <td>los angeles</td>\n      <td>8185850855</td>\n      <td>asian</td>\n    </tr>\n    <tr>\n      <th>46</th>\n      <td>46</td>\n      <td>kang yujean</td>\n      <td>67 raymond avenue</td>\n      <td>pasadena</td>\n      <td>8185850855</td>\n      <td>chinese</td>\n    </tr>\n    <tr>\n      <th>47</th>\n      <td>47</td>\n      <td>21 club</td>\n      <td>21 52 street</td>\n      <td>new york</td>\n      <td>2125827200</td>\n      <td>american</td>\n    </tr>\n    <tr>\n      <th>49</th>\n      <td>49</td>\n      <td>aquavit</td>\n      <td>13 54 street</td>\n      <td>new york</td>\n      <td>2123077311</td>\n      <td>continental</td>\n    </tr>\n    <tr>\n      <th>51</th>\n      <td>51</td>\n      <td>aureole</td>\n      <td>34 61 street</td>\n      <td>new york</td>\n      <td>2123191660</td>\n      <td>american</td>\n    </tr>\n    <tr>\n      <th>53</th>\n      <td>53</td>\n      <td>cafelo</td>\n      <td>201 83 street</td>\n      <td>new york</td>\n      <td>2124966031</td>\n      <td>coffee bar</td>\n    </tr>\n    <tr>\n      <th>55</th>\n      <td>55</td>\n      <td>artistes cafe des</td>\n      <td>1 67 street</td>\n      <td>new york</td>\n      <td>2128773500</td>\n      <td>continental</td>\n    </tr>\n    <tr>\n      <th>57</th>\n      <td>57</td>\n      <td>carmine</td>\n      <td>2450 broadway</td>\n      <td>new york</td>\n      <td>2123622200</td>\n      <td>italian</td>\n    </tr>\n    <tr>\n      <th>59</th>\n      <td>59</td>\n      <td>carnegie deli</td>\n      <td>854 7 avenue</td>\n      <td>new york</td>\n      <td>2127572245</td>\n      <td>delicatessen</td>\n    </tr>\n    <tr>\n      <th>61</th>\n      <td>61</td>\n      <td>chanterelle</td>\n      <td>2 harrison street</td>\n      <td>new york</td>\n      <td>2129666960</td>\n      <td>american</td>\n    </tr>\n    <tr>\n      <th>63</th>\n      <td>63</td>\n      <td>daniel</td>\n      <td>20 76 street</td>\n      <td>new york</td>\n      <td>2122880033</td>\n      <td>french</td>\n    </tr>\n    <tr>\n      <th>65</th>\n      <td>65</td>\n      <td>dawat</td>\n      <td>210 58 street</td>\n      <td>new york</td>\n      <td>2123557555</td>\n      <td>asian</td>\n    </tr>\n    <tr>\n      <th>67</th>\n      <td>67</td>\n      <td>felidia</td>\n      <td>243 58 street</td>\n      <td>new york</td>\n      <td>2127581479</td>\n      <td>italian</td>\n    </tr>\n    <tr>\n      <th>69</th>\n      <td>69</td>\n      <td>four grill room seasons</td>\n      <td>99 52 street</td>\n      <td>new york</td>\n      <td>2127549494</td>\n      <td>american</td>\n    </tr>\n    <tr>\n      <th>70</th>\n      <td>70</td>\n      <td>four seasons</td>\n      <td>99 52 street</td>\n      <td>new york</td>\n      <td>2127549494</td>\n      <td>american (new)</td>\n    </tr>\n    <tr>\n      <th>71</th>\n      <td>71</td>\n      <td>bar gotham grill</td>\n      <td>12 12 street</td>\n      <td>new york</td>\n      <td>2126204020</td>\n      <td>american</td>\n    </tr>\n    <tr>\n      <th>73</th>\n      <td>73</td>\n      <td>gramercy tavern</td>\n      <td>42 20 street</td>\n      <td>new york</td>\n      <td>2124770777</td>\n      <td>american</td>\n    </tr>\n    <tr>\n      <th>75</th>\n      <td>75</td>\n      <td>isl spice</td>\n      <td>402 44 street</td>\n      <td>new york</td>\n      <td>2127651737</td>\n      <td>tel caribbean</td>\n    </tr>\n    <tr>\n      <th>77</th>\n      <td>77</td>\n      <td>jo jo</td>\n      <td>160 64 street</td>\n      <td>new york</td>\n      <td>2122235656</td>\n      <td>american</td>\n    </tr>\n    <tr>\n      <th>79</th>\n      <td>79</td>\n      <td>caravelle la</td>\n      <td>33 55 street</td>\n      <td>new york</td>\n      <td>2125864252</td>\n      <td>french</td>\n    </tr>\n    <tr>\n      <th>81</th>\n      <td>81</td>\n      <td>basque cote la</td>\n      <td>60 55 street</td>\n      <td>new york</td>\n      <td>2126886525</td>\n      <td>french</td>\n    </tr>\n    <tr>\n      <th>83</th>\n      <td>83</td>\n      <td>bernardin le</td>\n      <td>155 51 street</td>\n      <td>new york</td>\n      <td>2124891515</td>\n      <td>french</td>\n    </tr>\n    <tr>\n      <th>85</th>\n      <td>85</td>\n      <td>celebrites les</td>\n      <td>160 central park</td>\n      <td>new york</td>\n      <td>2124845113</td>\n      <td>french</td>\n    </tr>\n    <tr>\n      <th>87</th>\n      <td>87</td>\n      <td>lespinasse</td>\n      <td>2 55 street</td>\n      <td>new york</td>\n      <td>2123396719</td>\n      <td>american</td>\n    </tr>\n    <tr>\n      <th>88</th>\n      <td>88</td>\n      <td>lespinasse</td>\n      <td>2 55 street</td>\n      <td>new york</td>\n      <td>2123396719</td>\n      <td>asian</td>\n    </tr>\n    <tr>\n      <th>89</th>\n      <td>89</td>\n      <td>lutece</td>\n      <td>249 50 street</td>\n      <td>new york</td>\n      <td>2127522225</td>\n      <td>french</td>\n    </tr>\n    <tr>\n      <th>91</th>\n      <td>91</td>\n      <td>club manhattan ocean</td>\n      <td>57 58 street</td>\n      <td>new york</td>\n      <td>2123717777</td>\n      <td>seafood</td>\n    </tr>\n    <tr>\n      <th>93</th>\n      <td>93</td>\n      <td>march</td>\n      <td>405 58 street</td>\n      <td>new york</td>\n      <td>2127546272</td>\n      <td>american</td>\n    </tr>\n    <tr>\n      <th>95</th>\n      <td>95</td>\n      <td>grill mesa</td>\n      <td>102 5 avenue</td>\n      <td>new york</td>\n      <td>2128077400</td>\n      <td>american</td>\n    </tr>\n    <tr>\n      <th>97</th>\n      <td>97</td>\n      <td>cocina mi</td>\n      <td>57 jane street</td>\n      <td>new york</td>\n      <td>2126278273</td>\n      <td>mexican</td>\n    </tr>\n    <tr>\n      <th>99</th>\n      <td>99</td>\n      <td>montrachet</td>\n      <td>239 broadway</td>\n      <td>new york</td>\n      <td>2122192777</td>\n      <td>french</td>\n    </tr>\n    <tr>\n      <th>101</th>\n      <td>101</td>\n      <td>oceana</td>\n      <td>55 54 street</td>\n      <td>new york</td>\n      <td>2127595941</td>\n      <td>seafood</td>\n    </tr>\n    <tr>\n      <th>103</th>\n      <td>103</td>\n      <td>avenue cafe park</td>\n      <td>100 63 street</td>\n      <td>new york</td>\n      <td>2126441900</td>\n      <td>american</td>\n    </tr>\n    <tr>\n      <th>104</th>\n      <td>104</td>\n      <td>avenue cafe park</td>\n      <td>100 63 street</td>\n      <td>new york</td>\n      <td>2126441900</td>\n      <td>american (new)</td>\n    </tr>\n    <tr>\n      <th>105</th>\n      <td>105</td>\n      <td>petrossian</td>\n      <td>182 58 street</td>\n      <td>new york</td>\n      <td>2122452214</td>\n      <td>french</td>\n    </tr>\n    <tr>\n      <th>107</th>\n      <td>107</td>\n      <td>picholine</td>\n      <td>35 64 street</td>\n      <td>new york</td>\n      <td>2127248585</td>\n      <td>mediterranean</td>\n    </tr>\n    <tr>\n      <th>109</th>\n      <td>109</td>\n      <td>pisces</td>\n      <td>95 avenue a</td>\n      <td>new york</td>\n      <td>2122606660</td>\n      <td>seafood</td>\n    </tr>\n    <tr>\n      <th>111</th>\n      <td>111</td>\n      <td>rainbow room</td>\n      <td>30 rockefeller plaza</td>\n      <td>new york</td>\n      <td>2126325000</td>\n      <td>or 212/632-5100 american</td>\n    </tr>\n    <tr>\n      <th>113</th>\n      <td>113</td>\n      <td>cafe river</td>\n      <td>1 water street</td>\n      <td>brooklyn</td>\n      <td>7185225200</td>\n      <td>american</td>\n    </tr>\n    <tr>\n      <th>115</th>\n      <td>115</td>\n      <td>domenico san</td>\n      <td>240 central park</td>\n      <td>new york</td>\n      <td>2122655959</td>\n      <td>italian</td>\n    </tr>\n    <tr>\n      <th>117</th>\n      <td>117</td>\n      <td>avenue deli second</td>\n      <td>156 2 avenue</td>\n      <td>new york</td>\n      <td>2126770606</td>\n      <td>delicatessen</td>\n    </tr>\n    <tr>\n      <th>119</th>\n      <td>119</td>\n      <td>seryna</td>\n      <td>11 53 street</td>\n      <td>new york</td>\n      <td>2129809393</td>\n      <td>asian</td>\n    </tr>\n    <tr>\n      <th>121</th>\n      <td>121</td>\n      <td>lee shun</td>\n      <td>43 65 street</td>\n      <td>new york</td>\n      <td>2123718844</td>\n      <td>asian</td>\n    </tr>\n    <tr>\n      <th>122</th>\n      <td>122</td>\n      <td>lee palace shun</td>\n      <td>155 55 street</td>\n      <td>new york</td>\n      <td>2123718844</td>\n      <td>chinese</td>\n    </tr>\n    <tr>\n      <th>123</th>\n      <td>123</td>\n      <td>sign</td>\n      <td>1110 3 avenue</td>\n      <td>new york</td>\n      <td>2128618080</td>\n      <td>american</td>\n    </tr>\n    <tr>\n      <th>125</th>\n      <td>125</td>\n      <td>smith wollensky</td>\n      <td>201 49 street</td>\n      <td>new york</td>\n      <td>2127531530</td>\n      <td>american</td>\n    </tr>\n    <tr>\n      <th>127</th>\n      <td>127</td>\n      <td>green on tavern</td>\n      <td>in central park</td>\n      <td>new york</td>\n      <td>2128733200</td>\n      <td>american</td>\n    </tr>\n    <tr>\n      <th>129</th>\n      <td>129</td>\n      <td>nick uncle</td>\n      <td>747 9 avenue</td>\n      <td>new york</td>\n      <td>2123151726</td>\n      <td>mediterranean</td>\n    </tr>\n    <tr>\n      <th>131</th>\n      <td>131</td>\n      <td>cafe square union</td>\n      <td>21 16 street</td>\n      <td>new york</td>\n      <td>2122434020</td>\n      <td>american</td>\n    </tr>\n    <tr>\n      <th>133</th>\n      <td>133</td>\n      <td>virgil</td>\n      <td>152 44 street</td>\n      <td>new york</td>\n      <td>2129219494</td>\n      <td>american</td>\n    </tr>\n    <tr>\n      <th>134</th>\n      <td>134</td>\n      <td>bbq real virgil</td>\n      <td>152 44 street</td>\n      <td>new york</td>\n      <td>2129219494</td>\n      <td>bbq</td>\n    </tr>\n    <tr>\n      <th>135</th>\n      <td>135</td>\n      <td>chin</td>\n      <td>3200 las vegas boulevard</td>\n      <td>las vegas</td>\n      <td>7027338899</td>\n      <td>asian</td>\n    </tr>\n    <tr>\n      <th>137</th>\n      <td>137</td>\n      <td>cafe coyote</td>\n      <td>3799 las vegas boulevard</td>\n      <td>las vegas</td>\n      <td>7028917349</td>\n      <td>southwestern</td>\n    </tr>\n    <tr>\n      <th>138</th>\n      <td>138</td>\n      <td>cafes coyote vegas</td>\n      <td>3799 las vegas boulevard</td>\n      <td>las vegas</td>\n      <td>7028917349</td>\n      <td>southwestern</td>\n    </tr>\n    <tr>\n      <th>139</th>\n      <td>139</td>\n      <td>le montrachet</td>\n      <td>3000 paradise road</td>\n      <td>las vegas</td>\n      <td>7027325111</td>\n      <td>continental</td>\n    </tr>\n    <tr>\n      <th>140</th>\n      <td>140</td>\n      <td>bistro le montrachet</td>\n      <td>3000 paradise road</td>\n      <td>las vegas</td>\n      <td>7027325651</td>\n      <td>french bistro</td>\n    </tr>\n    <tr>\n      <th>141</th>\n      <td>141</td>\n      <td>court palace</td>\n      <td>3570 las vegas boulevard</td>\n      <td>las vegas</td>\n      <td>7027317547</td>\n      <td>continental</td>\n    </tr>\n    <tr>\n      <th>143</th>\n      <td>143</td>\n      <td>grille second street</td>\n      <td>200 fremont street</td>\n      <td>las vegas</td>\n      <td>7023853232</td>\n      <td>seafood</td>\n    </tr>\n    <tr>\n      <th>144</th>\n      <td>144</td>\n      <td>grill second street</td>\n      <td>200 fremont street</td>\n      <td>las vegas</td>\n      <td>7023856277</td>\n      <td>pacific rim</td>\n    </tr>\n    <tr>\n      <th>145</th>\n      <td>145</td>\n      <td>house steak</td>\n      <td>2880 las vegas boulevard</td>\n      <td>las vegas</td>\n      <td>7027340410</td>\n      <td>steak houses</td>\n    </tr>\n    <tr>\n      <th>146</th>\n      <td>146</td>\n      <td>house steak</td>\n      <td>2880 las vegas boulevard</td>\n      <td>las vegas</td>\n      <td>7027340410</td>\n      <td>steakhouses</td>\n    </tr>\n    <tr>\n      <th>147</th>\n      <td>147</td>\n      <td>tillerman</td>\n      <td>2245 flamingo road</td>\n      <td>las vegas</td>\n      <td>7027314036</td>\n      <td>seafood</td>\n    </tr>\n    <tr>\n      <th>148</th>\n      <td>148</td>\n      <td>tillerman</td>\n      <td>2245 flamingo road</td>\n      <td>las vegas</td>\n      <td>7027314036</td>\n      <td>steakhouses</td>\n    </tr>\n    <tr>\n      <th>149</th>\n      <td>149</td>\n      <td>abruzzi</td>\n      <td>2355 peachtree road peachtree battle shopping center</td>\n      <td>atlanta</td>\n      <td>4042618186</td>\n      <td>italian</td>\n    </tr>\n    <tr>\n      <th>151</th>\n      <td>151</td>\n      <td>bacchanalia</td>\n      <td>3125 piedmont road</td>\n      <td>atlanta</td>\n      <td>4043650410</td>\n      <td>international</td>\n    </tr>\n    <tr>\n      <th>153</th>\n      <td>153</td>\n      <td>bone</td>\n      <td>3130 piedmont road</td>\n      <td>atlanta</td>\n      <td>4042372663</td>\n      <td>american</td>\n    </tr>\n    <tr>\n      <th>154</th>\n      <td>154</td>\n      <td>bone</td>\n      <td>3130 piedmont road</td>\n      <td>atlanta</td>\n      <td>4042372663</td>\n      <td>steakhouses</td>\n    </tr>\n    <tr>\n      <th>155</th>\n      <td>155</td>\n      <td>brasserie coze le</td>\n      <td>3393 peachtree road lenox square mall</td>\n      <td>atlanta</td>\n      <td>4042661440</td>\n      <td>french</td>\n    </tr>\n    <tr>\n      <th>157</th>\n      <td>157</td>\n      <td>buckhead diner</td>\n      <td>3073 piedmont road</td>\n      <td>atlanta</td>\n      <td>4042623336</td>\n      <td>american</td>\n    </tr>\n    <tr>\n      <th>159</th>\n      <td>159</td>\n      <td>ciboulette</td>\n      <td>1529 piedmont avenue</td>\n      <td>atlanta</td>\n      <td>4048747600</td>\n      <td>french</td>\n    </tr>\n    <tr>\n      <th>160</th>\n      <td>160</td>\n      <td>ciboulette</td>\n      <td>1529 piedmont avenue</td>\n      <td>atlanta</td>\n      <td>4048747600</td>\n      <td>french (new)</td>\n    </tr>\n    <tr>\n      <th>161</th>\n      <td>161</td>\n      <td>delectables</td>\n      <td>1 margaret mitchell sq</td>\n      <td>atlanta</td>\n      <td>4046812909</td>\n      <td>american</td>\n    </tr>\n    <tr>\n      <th>163</th>\n      <td>163</td>\n      <td>georgia grille</td>\n      <td>2290 peachtree road peachtree square shopping center</td>\n      <td>atlanta</td>\n      <td>4043523517</td>\n      <td>american</td>\n    </tr>\n  </tbody>\n</table>\n</div>"
     },
     "metadata": {},
     "output_type": "execute_result",
     "execution_count": 26
    }
   ],
   "source": [
    "# Check the dataset without duplicates\n",
    "restaurant_data[restaurant_data['id'].isin(detected_duplicates['id'])== False].head(100)"
   ],
   "metadata": {
    "collapsed": false,
    "pycharm": {
     "name": "#%%\n",
     "is_executing": false
    }
   }
  },
  {
   "cell_type": "code",
   "execution_count": 26,
   "outputs": [],
   "source": [],
   "metadata": {
    "collapsed": false,
    "pycharm": {
     "name": "#%%\n",
     "is_executing": false
    }
   }
  },
  {
   "cell_type": "code",
   "execution_count": 27,
   "outputs": [
    {
     "name": "stdout",
     "text": [
      "dup found\n",
      "dup found\n",
      "dup found\n",
      "dup found\n",
      "dup found\n",
      "dup found\n",
      "dup found\n",
      "dup found\n",
      "dup found\n",
      "dup found\n",
      "dup found\n",
      "dup found\n",
      "dup found\n",
      "dup found\n",
      "dup found\n",
      "dup found\n",
      "dup found\n",
      "dup found\n",
      "dup found\n",
      "dup found\n",
      "dup found\n",
      "dup found\n",
      "dup found\n",
      "dup found\n",
      "dup found\n",
      "dup found\n",
      "dup found\n",
      "dup found\n",
      "dup found\n",
      "dup found\n",
      "dup found\n",
      "dup found\n",
      "dup found\n",
      "dup found\n",
      "dup found\n",
      "dup found\n",
      "dup found\n",
      "dup found\n",
      "dup found\n",
      "dup found\n",
      "dup found\n",
      "dup found\n",
      "dup found\n",
      "dup found\n",
      "dup found\n",
      "dup found\n",
      "dup found\n",
      "dup found\n",
      "dup found\n",
      "dup found\n",
      "dup found\n",
      "dup found\n",
      "dup found\n",
      "dup found\n",
      "dup found\n",
      "dup found\n",
      "dup found\n",
      "dup found\n",
      "dup found\n",
      "dup found\n",
      "dup found\n",
      "dup found\n",
      "dup found\n",
      "dup found\n",
      "dup found\n",
      "dup found\n",
      "dup found\n",
      "dup found\n",
      "dup found\n",
      "dup found\n",
      "dup found\n",
      "dup found\n",
      "dup found\n",
      "dup found\n",
      "dup found\n",
      "dup found\n",
      "dup found\n",
      "dup found\n",
      "dup found\n",
      "dup found\n",
      "dup found\n",
      "dup found\n",
      "dup found\n",
      "dup found\n",
      "dup found\n",
      "dup found\n",
      "dup found\n",
      "dup found\n",
      "dup found\n",
      "dup found\n",
      "dup found\n"
     ],
     "output_type": "stream"
    },
    {
     "data": {
      "text/plain": "{'1': [2],\n '10': [],\n '100': [],\n '101': [102],\n '102': [],\n '105': [106],\n '106': [],\n '107': [108],\n '108': [],\n '109': [110],\n '11': [12],\n '110': [],\n '111': [112],\n '112': [],\n '113': [114],\n '114': [],\n '115': [116],\n '116': [],\n '117': [118],\n '118': [],\n '119': [120],\n '12': [],\n '120': [],\n '123': [124],\n '124': [],\n '125': [126],\n '126': [],\n '127': [128],\n '128': [],\n '129': [130],\n '13': [14],\n '130': [],\n '131': [132],\n '132': [],\n '135': [136],\n '136': [],\n '14': [],\n '141': [142],\n '142': [],\n '149': [150],\n '15': [16],\n '150': [],\n '151': [152],\n '152': [],\n '155': [156],\n '156': [],\n '157': [158],\n '158': [],\n '16': [],\n '161': [162],\n '162': [],\n '163': [164],\n '164': [],\n '165': [166],\n '166': [],\n '167': [168],\n '168': [],\n '169': [170],\n '17': [18],\n '170': [],\n '171': [172],\n '172': [],\n '173': [174],\n '174': [],\n '175': [176],\n '176': [],\n '179': [180],\n '18': [],\n '180': [],\n '181': [182],\n '182': [],\n '183': [184],\n '184': [],\n '185': [186],\n '186': [],\n '187': [188],\n '188': [],\n '189': [190],\n '190': [],\n '191': [192],\n '192': [],\n '193': [194],\n '194': [],\n '195': [196],\n '196': [],\n '197': [198],\n '198': [],\n '199': [200],\n '2': [],\n '200': [],\n '201': [202],\n '202': [],\n '203': [204],\n '204': [],\n '205': [206],\n '206': [],\n '207': [208],\n '208': [],\n '209': [210],\n '210': [],\n '213': [214],\n '214': [],\n '217': [218],\n '218': [],\n '219': [220],\n '220': [],\n '221': [222],\n '222': [],\n '223': [224],\n '224': [],\n '23': [24],\n '24': [],\n '27': [28],\n '28': [],\n '29': [30],\n '30': [],\n '31': [32],\n '32': [],\n '33': [34],\n '34': [],\n '35': [36],\n '36': [],\n '37': [38],\n '38': [],\n '39': [40],\n '40': [],\n '43': [44],\n '44': [],\n '47': [48],\n '48': [],\n '49': [50],\n '5': [6],\n '50': [],\n '51': [52],\n '52': [],\n '53': [54],\n '54': [],\n '55': [56],\n '56': [],\n '57': [58],\n '58': [],\n '59': [60],\n '6': [],\n '60': [],\n '61': [62],\n '62': [],\n '63': [64],\n '64': [],\n '65': [66],\n '66': [],\n '67': [68],\n '68': [],\n '7': [8],\n '71': [72],\n '72': [],\n '73': [74],\n '74': [],\n '75': [76],\n '76': [],\n '77': [78],\n '78': [],\n '79': [80],\n '8': [],\n '80': [],\n '81': [82],\n '82': [],\n '83': [84],\n '84': [],\n '85': [86],\n '86': [],\n '89': [90],\n '9': [10],\n '90': [],\n '91': [92],\n '92': [],\n '93': [94],\n '94': [],\n '95': [96],\n '96': [],\n '97': [98],\n '98': [],\n '99': [100]}"
     },
     "metadata": {},
     "output_type": "execute_result",
     "execution_count": 27
    }
   ],
   "source": [
    " \n",
    "utils.get_final_dataset(_, restaurant_data)"
   ],
   "metadata": {
    "collapsed": false,
    "pycharm": {
     "name": "#%%\n",
     "is_executing": false
    }
   }
  },
  {
   "cell_type": "code",
   "execution_count": 28,
   "outputs": [],
   "source": [
    "#from pymongo import MongoClient\n",
    "#client = MongoClient(\"mongodb+srv://Username:PW@cluster0-uqgxm.mongodb.net/test?retryWrites=true&w=majority\", serverSelectionTimeoutMS=60)\n",
    "#db = client.dmdb_db\n",
    "#collection = db.testet\n",
    "\n",
    "#data = restaurant_data.to_dict(orient='records') \n",
    "#data = {\"keay\": \"vaasfewio\"}\n",
    "#collection.insert_one(data)"
   ],
   "metadata": {
    "collapsed": false,
    "pycharm": {
     "name": "#%%\n",
     "is_executing": false
    }
   }
  },
  {
   "cell_type": "code",
   "execution_count": 28,
   "outputs": [],
   "source": [],
   "metadata": {
    "collapsed": false,
    "pycharm": {
     "name": "#%%\n",
     "is_executing": false
    }
   }
  },
  {
   "cell_type": "code",
   "execution_count": 28,
   "outputs": [],
   "source": [
    "\n"
   ],
   "metadata": {
    "collapsed": false,
    "pycharm": {
     "name": "#%%\n",
     "is_executing": false
    }
   }
  },
  {
   "cell_type": "code",
   "execution_count": 28,
   "outputs": [],
   "source": [
    "\n"
   ],
   "metadata": {
    "collapsed": false,
    "pycharm": {
     "name": "#%%\n",
     "is_executing": false
    }
   }
  }
 ],
 "metadata": {
  "kernelspec": {
   "display_name": "Python 3",
   "language": "python",
   "name": "python3"
  },
  "language_info": {
   "codemirror_mode": {
    "name": "ipython",
    "version": 2
   },
   "file_extension": ".py",
   "mimetype": "text/x-python",
   "name": "python",
   "nbconvert_exporter": "python",
   "pygments_lexer": "ipython2",
   "version": "2.7.6"
  },
  "pycharm": {
   "stem_cell": {
    "cell_type": "raw",
    "source": [],
    "metadata": {
     "collapsed": false
    }
   }
  }
 },
 "nbformat": 4,
 "nbformat_minor": 0
}