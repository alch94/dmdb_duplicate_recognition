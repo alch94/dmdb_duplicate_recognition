{
 "cells": [
  {
   "cell_type": "code",
   "execution_count": 1,
   "metadata": {
    "collapsed": true,
    "pycharm": {
     "is_executing": false,
     "name": "#%%\n"
    }
   },
   "outputs": [
    {
     "data": {
      "text/plain": "    id                       name                  address         city  \\\nid                                                                        \n1   1   arnie morton's of chicago  435 s. la cienega blv.   los angeles   \n2   2   arnie morton's of chicago  435 s. la cienega blvd.  los angeles   \n3   3   art's delicatessen         12224 ventura blvd.      studio city   \n4   4   art's deli                 12224 ventura blvd.      studio city   \n5   5   hotel bel-air              701 stone canyon rd.     bel air       \n\n           phone         type  \nid                             \n1   310/246-1501  american     \n2   310-246-1501  steakhouses  \n3   818/762-1221  american     \n4   818-762-1221  delis        \n5   310/472-1211  californian  ",
      "text/html": "<div>\n<style scoped>\n    .dataframe tbody tr th:only-of-type {\n        vertical-align: middle;\n    }\n\n    .dataframe tbody tr th {\n        vertical-align: top;\n    }\n\n    .dataframe thead th {\n        text-align: right;\n    }\n</style>\n<table border=\"1\" class=\"dataframe\">\n  <thead>\n    <tr style=\"text-align: right;\">\n      <th></th>\n      <th>id</th>\n      <th>name</th>\n      <th>address</th>\n      <th>city</th>\n      <th>phone</th>\n      <th>type</th>\n    </tr>\n    <tr>\n      <th>id</th>\n      <th></th>\n      <th></th>\n      <th></th>\n      <th></th>\n      <th></th>\n      <th></th>\n    </tr>\n  </thead>\n  <tbody>\n    <tr>\n      <th>1</th>\n      <td>1</td>\n      <td>arnie morton's of chicago</td>\n      <td>435 s. la cienega blv.</td>\n      <td>los angeles</td>\n      <td>310/246-1501</td>\n      <td>american</td>\n    </tr>\n    <tr>\n      <th>2</th>\n      <td>2</td>\n      <td>arnie morton's of chicago</td>\n      <td>435 s. la cienega blvd.</td>\n      <td>los angeles</td>\n      <td>310-246-1501</td>\n      <td>steakhouses</td>\n    </tr>\n    <tr>\n      <th>3</th>\n      <td>3</td>\n      <td>art's delicatessen</td>\n      <td>12224 ventura blvd.</td>\n      <td>studio city</td>\n      <td>818/762-1221</td>\n      <td>american</td>\n    </tr>\n    <tr>\n      <th>4</th>\n      <td>4</td>\n      <td>art's deli</td>\n      <td>12224 ventura blvd.</td>\n      <td>studio city</td>\n      <td>818-762-1221</td>\n      <td>delis</td>\n    </tr>\n    <tr>\n      <th>5</th>\n      <td>5</td>\n      <td>hotel bel-air</td>\n      <td>701 stone canyon rd.</td>\n      <td>bel air</td>\n      <td>310/472-1211</td>\n      <td>californian</td>\n    </tr>\n  </tbody>\n</table>\n</div>"
     },
     "metadata": {},
     "output_type": "execute_result",
     "execution_count": 1
    }
   ],
   "source": [
    "# Load data and set pandas options to display the full dataset if needed\n",
    "import re\n",
    "import pandas as pd\n",
    "pd.set_option('display.max_columns', None)  \n",
    "pd.set_option('display.max_rows', None)  \n",
    "pd.set_option('display.max_colwidth', -1)  \n",
    "restaurant_data = pd.read_csv('../Data/restaurants.tsv', sep='\\t')\n",
    "restaurant_data = restaurant_data.set_index(['id'], drop=False)\n",
    "restaurant_data.head()"
   ]
  },
  {
   "cell_type": "code",
   "execution_count": 2,
   "outputs": [
    {
     "name": "stdout",
     "text": [
      "<class 'pandas.core.frame.DataFrame'>\nInt64Index: 864 entries, 1 to 864\nData columns (total 6 columns):\nid         864 non-null int64\nname       864 non-null object\naddress    864 non-null object\ncity       864 non-null object\nphone      864 non-null object\ntype       863 non-null object\ndtypes: int64(1), object(5)\nmemory usage: 47.2+ KB\n"
     ],
     "output_type": "stream"
    }
   ],
   "source": [
    "# Get info about the data and datatypes of the DataFrame\n",
    "restaurant_data.info()"
   ],
   "metadata": {
    "collapsed": false,
    "pycharm": {
     "name": "#%%\n",
     "is_executing": false
    }
   }
  },
  {
   "cell_type": "code",
   "execution_count": 3,
   "outputs": [],
   "source": [
    "# Remove special characters from phone, address, name and city to detect duplicates\n",
    "restaurant_data.phone = restaurant_data.phone.map(lambda x: re.sub(r'\\W+', '', x))\n",
    "restaurant_data.address = restaurant_data.address.map(lambda x: re.sub(r'[^a-zA-Z0-9 ]+', '', x))\n",
    "restaurant_data.name = restaurant_data.name.map(lambda x: re.sub(r'[^a-zA-Z0-9 ]+', '', x))\n",
    "restaurant_data.city = restaurant_data.city.map(lambda x: re.sub(r'[^a-zA-Z0-9 ]+', '', x))"
   ],
   "metadata": {
    "collapsed": false,
    "pycharm": {
     "name": "#%%\n",
     "is_executing": false
    }
   }
  },
  {
   "cell_type": "code",
   "execution_count": 4,
   "outputs": [
    {
     "data": {
      "text/plain": "array(['los angeles', 'studio city', 'bel air', 'sherman oaks',\n       'santa monica', 'hollywood', 'w hollywood', 'malibu',\n       'beverly hills', 'los feliz', 'chinatown', 'pasadena', 'new york',\n       'new york city', 'brooklyn', 'las vegas', 'atlanta',\n       'san francisco', 'pacific palisades', 'toluca lake', 'west la',\n       'westlake village', 'northridge', 'mar vista', 'venice', 'la',\n       'redondo beach', 'westwood', 'culver city', 'long beach',\n       'century city', 'st boyle hts', 'rancho park', 'st hermosa beach',\n       'marina del rey', 'encino', 'monterey park', 'burbank',\n       'seal beach', 'brentwood', 'manhattan beach', 'glendale', 'queens',\n       'marietta', 'roswell', 'smyrna', 'duluth', 'decatur',\n       'college park'], dtype=object)"
     },
     "metadata": {},
     "output_type": "execute_result",
     "execution_count": 4
    }
   ],
   "source": [
    "# Check the unique values of city\n",
    "restaurant_data.city.unique()"
   ],
   "metadata": {
    "collapsed": false,
    "pycharm": {
     "name": "#%%\n",
     "is_executing": false
    }
   }
  },
  {
   "cell_type": "code",
   "execution_count": 5,
   "outputs": [
    {
     "data": {
      "text/plain": "array(['atlanta', 'bel air', 'beverly hills', 'brentwood', 'brooklyn',\n       'burbank', 'century city', 'chinatown', 'college park',\n       'culver city', 'decatur', 'duluth', 'encino', 'glendale',\n       'hollywood', 'las vegas', 'long beach', 'los angeles', 'los feliz',\n       'malibu', 'manhattan beach', 'mar vista', 'marietta',\n       'marina del rey', 'monterey park', 'new york', 'northridge',\n       'pacific palisades', 'pasadena', 'queens', 'rancho park',\n       'redondo beach', 'roswell', 'san francisco', 'santa monica',\n       'seal beach', 'sherman oaks', 'smyrna', 'st boyle hts',\n       'st hermosa beach', 'studio city', 'toluca lake', 'venice',\n       'westlake village', 'westwood'], dtype=object)"
     },
     "metadata": {},
     "output_type": "execute_result",
     "execution_count": 5
    }
   ],
   "source": [
    "# Map multiple occurrences of the same city in different writing\n",
    "# It could also be a good idea to map all city parts to one city (i.e. hollywood -> los angeles)\n",
    "city_map = {'la': 'los angeles', 'new york city': 'new york', 'west la': 'los angeles', 'w hollywood': 'hollywood'}\n",
    "restaurant_data.city = restaurant_data.city.replace(city_map)\n",
    "restaurant_data.city.sort_values().unique()"
   ],
   "metadata": {
    "collapsed": false,
    "pycharm": {
     "name": "#%%\n",
     "is_executing": false
    }
   }
  },
  {
   "cell_type": "code",
   "execution_count": 6,
   "outputs": [],
   "source": [
    "# Remove unnecessary explaination parts from the address string for a more accurate duplicate detection\n",
    "restaurant_data['address_cleared'] = restaurant_data['address'].str.split(r' between| off| near| at| in').str[0]"
   ],
   "metadata": {
    "collapsed": false,
    "pycharm": {
     "name": "#%%\n",
     "is_executing": false
    }
   }
  },
  {
   "cell_type": "code",
   "execution_count": 7,
   "outputs": [
    {
     "data": {
      "text/plain": "          address_cleared                address           city\nid                                                             \n1   435 s la cienega blv   435 s la cienega blv   los angeles  \n2   435 s la cienega blvd  435 s la cienega blvd  los angeles  \n3   12224 ventura blvd     12224 ventura blvd     studio city  \n4   12224 ventura blvd     12224 ventura blvd     studio city  \n5   701 stone canyon rd    701 stone canyon rd    bel air      \n6   701 stone canyon rd    701 stone canyon rd    bel air      \n7   14016 ventura blvd     14016 ventura blvd     sherman oaks \n8   14016 ventura blvd     14016 ventura blvd     sherman oaks \n9   624 s la brea ave      624 s la brea ave      los angeles  \n10  624 s la brea ave      624 s la brea ave      los angeles  \n11  2709 main st           2709 main st           santa monica \n12  2709 main st           2709 main st           santa monica \n13  6703 melrose ave       6703 melrose ave       los angeles  \n14  6703 melrose ave       6703 melrose ave       los angeles  \n15  8358 sunset blvd west  8358 sunset blvd west  hollywood    \n16  8358 sunset blvd       8358 sunset blvd       hollywood    \n17  23725 w malibu rd      23725 w malibu rd      malibu       \n18  23725 w malibu rd      23725 w malibu rd      malibu       \n19  9560 dayton way        9560 dayton way        los angeles  \n20  9560 dayton way        9560 dayton way        beverly hills",
      "text/html": "<div>\n<style scoped>\n    .dataframe tbody tr th:only-of-type {\n        vertical-align: middle;\n    }\n\n    .dataframe tbody tr th {\n        vertical-align: top;\n    }\n\n    .dataframe thead th {\n        text-align: right;\n    }\n</style>\n<table border=\"1\" class=\"dataframe\">\n  <thead>\n    <tr style=\"text-align: right;\">\n      <th></th>\n      <th>address_cleared</th>\n      <th>address</th>\n      <th>city</th>\n    </tr>\n    <tr>\n      <th>id</th>\n      <th></th>\n      <th></th>\n      <th></th>\n    </tr>\n  </thead>\n  <tbody>\n    <tr>\n      <th>1</th>\n      <td>435 s la cienega blv</td>\n      <td>435 s la cienega blv</td>\n      <td>los angeles</td>\n    </tr>\n    <tr>\n      <th>2</th>\n      <td>435 s la cienega blvd</td>\n      <td>435 s la cienega blvd</td>\n      <td>los angeles</td>\n    </tr>\n    <tr>\n      <th>3</th>\n      <td>12224 ventura blvd</td>\n      <td>12224 ventura blvd</td>\n      <td>studio city</td>\n    </tr>\n    <tr>\n      <th>4</th>\n      <td>12224 ventura blvd</td>\n      <td>12224 ventura blvd</td>\n      <td>studio city</td>\n    </tr>\n    <tr>\n      <th>5</th>\n      <td>701 stone canyon rd</td>\n      <td>701 stone canyon rd</td>\n      <td>bel air</td>\n    </tr>\n    <tr>\n      <th>6</th>\n      <td>701 stone canyon rd</td>\n      <td>701 stone canyon rd</td>\n      <td>bel air</td>\n    </tr>\n    <tr>\n      <th>7</th>\n      <td>14016 ventura blvd</td>\n      <td>14016 ventura blvd</td>\n      <td>sherman oaks</td>\n    </tr>\n    <tr>\n      <th>8</th>\n      <td>14016 ventura blvd</td>\n      <td>14016 ventura blvd</td>\n      <td>sherman oaks</td>\n    </tr>\n    <tr>\n      <th>9</th>\n      <td>624 s la brea ave</td>\n      <td>624 s la brea ave</td>\n      <td>los angeles</td>\n    </tr>\n    <tr>\n      <th>10</th>\n      <td>624 s la brea ave</td>\n      <td>624 s la brea ave</td>\n      <td>los angeles</td>\n    </tr>\n    <tr>\n      <th>11</th>\n      <td>2709 main st</td>\n      <td>2709 main st</td>\n      <td>santa monica</td>\n    </tr>\n    <tr>\n      <th>12</th>\n      <td>2709 main st</td>\n      <td>2709 main st</td>\n      <td>santa monica</td>\n    </tr>\n    <tr>\n      <th>13</th>\n      <td>6703 melrose ave</td>\n      <td>6703 melrose ave</td>\n      <td>los angeles</td>\n    </tr>\n    <tr>\n      <th>14</th>\n      <td>6703 melrose ave</td>\n      <td>6703 melrose ave</td>\n      <td>los angeles</td>\n    </tr>\n    <tr>\n      <th>15</th>\n      <td>8358 sunset blvd west</td>\n      <td>8358 sunset blvd west</td>\n      <td>hollywood</td>\n    </tr>\n    <tr>\n      <th>16</th>\n      <td>8358 sunset blvd</td>\n      <td>8358 sunset blvd</td>\n      <td>hollywood</td>\n    </tr>\n    <tr>\n      <th>17</th>\n      <td>23725 w malibu rd</td>\n      <td>23725 w malibu rd</td>\n      <td>malibu</td>\n    </tr>\n    <tr>\n      <th>18</th>\n      <td>23725 w malibu rd</td>\n      <td>23725 w malibu rd</td>\n      <td>malibu</td>\n    </tr>\n    <tr>\n      <th>19</th>\n      <td>9560 dayton way</td>\n      <td>9560 dayton way</td>\n      <td>los angeles</td>\n    </tr>\n    <tr>\n      <th>20</th>\n      <td>9560 dayton way</td>\n      <td>9560 dayton way</td>\n      <td>beverly hills</td>\n    </tr>\n  </tbody>\n</table>\n</div>"
     },
     "metadata": {},
     "output_type": "execute_result",
     "execution_count": 7
    }
   ],
   "source": [
    "# Print the new and old address to ensure that there was an improvement in the data quality\n",
    "restaurant_data[['address_cleared', 'address', 'city']].head(20)"
   ],
   "metadata": {
    "collapsed": false,
    "pycharm": {
     "name": "#%%\n",
     "is_executing": false
    }
   }
  },
  {
   "cell_type": "code",
   "execution_count": 8,
   "outputs": [],
   "source": [
    "# Overwrite address and remove address_cleared for a more consistent dataframe\n",
    "restaurant_data.address = restaurant_data.address_cleared\n",
    "restaurant_data = restaurant_data.drop(['address_cleared'], axis=1)"
   ],
   "metadata": {
    "collapsed": false,
    "pycharm": {
     "name": "#%%\n",
     "is_executing": false
    }
   }
  },
  {
   "cell_type": "code",
   "execution_count": 9,
   "outputs": [],
   "source": [
    "# Remove appendixes of numbers because they are inconsistent over the dataset\n",
    "restaurant_data.address = restaurant_data.address.map(lambda x: re.sub(r\"(?<=\\d)(st|nd|rd|th)\\b\", '', x))"
   ],
   "metadata": {
    "collapsed": false,
    "pycharm": {
     "name": "#%%\n",
     "is_executing": false
    }
   }
  },
  {
   "cell_type": "code",
   "execution_count": 10,
   "outputs": [],
   "source": [
    "# Remove the direction in address and name because it's inconsistent over the dataset\n",
    "restaurant_data.address = restaurant_data.address.map(lambda x: re.sub('(( |^)((south)|(east)|(west)|(north)|(ne)|(se)|(nw)|(sw)|s|w|e|n)( |$))', ' ', x))\n",
    "restaurant_data.name = restaurant_data.name.map(lambda x: re.sub('(( |^)((south)|(east)|(west)|(north)|(ne)|(se)|(nw)|(sw)|s|w|e|n)( |$))', ' ', x))"
   ],
   "metadata": {
    "collapsed": false,
    "pycharm": {
     "name": "#%%\n",
     "is_executing": false
    }
   }
  },
  {
   "cell_type": "code",
   "execution_count": 11,
   "outputs": [],
   "source": [
    "# Standardize the address even more\n",
    "address_num_map = {'first': '1', 'second': '2', 'third': '3', 'fourth': '4', 'fifth': '5', 'sixth': '6',\n",
    "                   'seventh': '7','eighth' : '8', 'ninth': '9', 'tenth': '10', 'eleventh': '11', 'twelfth': '12'}\n",
    "address_name_map = {'la': 'los angeles', 'ave': 'avenue',  'rd': 'road', 'blv': 'boulevard', \n",
    "                    'blvd': 'boulevard', 'st': 'street'}\n",
    "address_map = {**address_name_map, **address_num_map}\n",
    "restaurant_data.address = restaurant_data.address.map(lambda x: ' '.join([address_map.get(i, i) for i in x.split()]))"
   ],
   "metadata": {
    "collapsed": false,
    "pycharm": {
     "name": "#%%\n",
     "is_executing": false
    }
   }
  },
  {
   "cell_type": "code",
   "execution_count": 12,
   "outputs": [
    {
     "name": "stdout",
     "text": [
      "Duplicates in address, city and phone94\nDuplicates in name city and phone78\nDuplicates in address name and phone: 67\nDuplicates in address city and name: 67\nDuplicates in address, city, name and phone: 65\n"
     ],
     "output_type": "stream"
    }
   ],
   "source": [
    "#Check for the duplicates in the four important columns in our dataset\n",
    "print('Duplicates in address, city and phone' + str(restaurant_data.duplicated(subset=['address', 'city', 'phone']).sum()))\n",
    "print('Duplicates in name city and phone' + str(restaurant_data.duplicated(subset=['name', 'city', 'phone']).sum()))\n",
    "print('Duplicates in address name and phone: ' + str(restaurant_data.duplicated(subset=['address', 'name', 'phone']).sum()))\n",
    "print('Duplicates in address city and name: ' + str(restaurant_data.duplicated(subset=['address', 'city', 'name']).sum()))\n",
    "print('Duplicates in address, city, name and phone: ' + str(restaurant_data.duplicated(subset=['address', 'city', 'name', 'phone']).sum()))"
   ],
   "metadata": {
    "collapsed": false,
    "pycharm": {
     "name": "#%%\n",
     "is_executing": false
    }
   }
  },
  {
   "cell_type": "code",
   "execution_count": 13,
   "outputs": [],
   "source": [
    "# Get a Series of all duplicate entries \n",
    "duplicates_bool_1 = restaurant_data.duplicated(subset=['address', 'city', 'phone'])\n",
    "duplicates_bool_2 = restaurant_data.duplicated(subset=['address', 'name', 'phone'])\n",
    "duplicates_bool_3 = restaurant_data.duplicated(subset=['address', 'city', 'name'])\n",
    "duplicates_bool_4 = restaurant_data.duplicated(subset=['name', 'city', 'phone'])\n",
    "duplicates_bool = duplicates_bool_1 | duplicates_bool_2 | duplicates_bool_3 | duplicates_bool_4"
   ],
   "metadata": {
    "collapsed": false,
    "pycharm": {
     "name": "#%%\n",
     "is_executing": false
    }
   }
  },
  {
   "cell_type": "code",
   "execution_count": 14,
   "outputs": [
    {
     "data": {
      "text/plain": "111"
     },
     "metadata": {},
     "output_type": "execute_result",
     "execution_count": 14
    }
   ],
   "source": [
    "# Select all duplicates into a new Dataframe\n",
    "restaurant_duplicates = restaurant_data[duplicates_bool == True]\n",
    "len(restaurant_duplicates)"
   ],
   "metadata": {
    "collapsed": false,
    "pycharm": {
     "name": "#%%\n",
     "is_executing": false
    }
   }
  },
  {
   "cell_type": "code",
   "execution_count": 15,
   "outputs": [
    {
     "data": {
      "text/plain": "    id                       name                            address  \\\nid                                                                     \n2   2   arnie mortons of chicago   435 los angeles cienega boulevard   \n4   4   arts deli                  12224 ventura boulevard             \n6   6   belair hotel               701 stone canyon road               \n8   8   cafe bizou                 14016 ventura boulevard             \n10  10  campanile                  624 los angeles brea avenue         \n12  12  chinois on main            2709 main street                    \n14  14  citrus                     6703 melrose avenue                 \n16  16  fenix at the argyle        8358 sunset boulevard               \n18  18  granita                    23725 malibu road                   \n24  24  lorangerie                 903 los angeles cienega boulevard   \n26  26  le chardonnay los angeles  8284 melrose avenue                 \n28  28  locanda veneta             8638 3 street                       \n30  30  matsuhisa                  129 los angeles cienega boulevard   \n34  34  patina                     5955 melrose avenue                 \n38  38  pinot bistro               12969 ventura boulevard             \n40  40  rex il ristorante          617 olive street                    \n44  44  valentino                  3115 pico boulevard                 \n48  48  21 club                    21 52 street                        \n50  50  aquavit                    13 54 street                        \n52  52  aureole                    34 61 street                        \n\n             city       phone                  type  \nid                                                   \n2   los angeles    3102461501  steakhouses           \n4   studio city    8187621221  delis                 \n6   bel air        3104721211  californian           \n8   sherman oaks   8187883536  french bistro         \n10  los angeles    2139381447  californian           \n12  santa monica   3103929025  pacific new wave      \n14  los angeles    2138570034  californian           \n16  hollywood      2138486677  french (new)          \n18  malibu         3104560488  californian           \n24  hollywood      3106529770  french (classic)      \n26  los angeles    2136558880  french bistro         \n28  los angeles    3102741893  italian               \n30  beverly hills  3106599639  seafood               \n34  los angeles    2134671108  californian           \n38  studio city    8189900500  french bistro         \n40  los angeles    2136272300  nuova cucina italian  \n44  santa monica   3108294313  italian               \n48  new york       2125827200  american (new)        \n50  new york       2123077311  scandinavian          \n52  new york       2123191660  american (new)        ",
      "text/html": "<div>\n<style scoped>\n    .dataframe tbody tr th:only-of-type {\n        vertical-align: middle;\n    }\n\n    .dataframe tbody tr th {\n        vertical-align: top;\n    }\n\n    .dataframe thead th {\n        text-align: right;\n    }\n</style>\n<table border=\"1\" class=\"dataframe\">\n  <thead>\n    <tr style=\"text-align: right;\">\n      <th></th>\n      <th>id</th>\n      <th>name</th>\n      <th>address</th>\n      <th>city</th>\n      <th>phone</th>\n      <th>type</th>\n    </tr>\n    <tr>\n      <th>id</th>\n      <th></th>\n      <th></th>\n      <th></th>\n      <th></th>\n      <th></th>\n      <th></th>\n    </tr>\n  </thead>\n  <tbody>\n    <tr>\n      <th>2</th>\n      <td>2</td>\n      <td>arnie mortons of chicago</td>\n      <td>435 los angeles cienega boulevard</td>\n      <td>los angeles</td>\n      <td>3102461501</td>\n      <td>steakhouses</td>\n    </tr>\n    <tr>\n      <th>4</th>\n      <td>4</td>\n      <td>arts deli</td>\n      <td>12224 ventura boulevard</td>\n      <td>studio city</td>\n      <td>8187621221</td>\n      <td>delis</td>\n    </tr>\n    <tr>\n      <th>6</th>\n      <td>6</td>\n      <td>belair hotel</td>\n      <td>701 stone canyon road</td>\n      <td>bel air</td>\n      <td>3104721211</td>\n      <td>californian</td>\n    </tr>\n    <tr>\n      <th>8</th>\n      <td>8</td>\n      <td>cafe bizou</td>\n      <td>14016 ventura boulevard</td>\n      <td>sherman oaks</td>\n      <td>8187883536</td>\n      <td>french bistro</td>\n    </tr>\n    <tr>\n      <th>10</th>\n      <td>10</td>\n      <td>campanile</td>\n      <td>624 los angeles brea avenue</td>\n      <td>los angeles</td>\n      <td>2139381447</td>\n      <td>californian</td>\n    </tr>\n    <tr>\n      <th>12</th>\n      <td>12</td>\n      <td>chinois on main</td>\n      <td>2709 main street</td>\n      <td>santa monica</td>\n      <td>3103929025</td>\n      <td>pacific new wave</td>\n    </tr>\n    <tr>\n      <th>14</th>\n      <td>14</td>\n      <td>citrus</td>\n      <td>6703 melrose avenue</td>\n      <td>los angeles</td>\n      <td>2138570034</td>\n      <td>californian</td>\n    </tr>\n    <tr>\n      <th>16</th>\n      <td>16</td>\n      <td>fenix at the argyle</td>\n      <td>8358 sunset boulevard</td>\n      <td>hollywood</td>\n      <td>2138486677</td>\n      <td>french (new)</td>\n    </tr>\n    <tr>\n      <th>18</th>\n      <td>18</td>\n      <td>granita</td>\n      <td>23725 malibu road</td>\n      <td>malibu</td>\n      <td>3104560488</td>\n      <td>californian</td>\n    </tr>\n    <tr>\n      <th>24</th>\n      <td>24</td>\n      <td>lorangerie</td>\n      <td>903 los angeles cienega boulevard</td>\n      <td>hollywood</td>\n      <td>3106529770</td>\n      <td>french (classic)</td>\n    </tr>\n    <tr>\n      <th>26</th>\n      <td>26</td>\n      <td>le chardonnay los angeles</td>\n      <td>8284 melrose avenue</td>\n      <td>los angeles</td>\n      <td>2136558880</td>\n      <td>french bistro</td>\n    </tr>\n    <tr>\n      <th>28</th>\n      <td>28</td>\n      <td>locanda veneta</td>\n      <td>8638 3 street</td>\n      <td>los angeles</td>\n      <td>3102741893</td>\n      <td>italian</td>\n    </tr>\n    <tr>\n      <th>30</th>\n      <td>30</td>\n      <td>matsuhisa</td>\n      <td>129 los angeles cienega boulevard</td>\n      <td>beverly hills</td>\n      <td>3106599639</td>\n      <td>seafood</td>\n    </tr>\n    <tr>\n      <th>34</th>\n      <td>34</td>\n      <td>patina</td>\n      <td>5955 melrose avenue</td>\n      <td>los angeles</td>\n      <td>2134671108</td>\n      <td>californian</td>\n    </tr>\n    <tr>\n      <th>38</th>\n      <td>38</td>\n      <td>pinot bistro</td>\n      <td>12969 ventura boulevard</td>\n      <td>studio city</td>\n      <td>8189900500</td>\n      <td>french bistro</td>\n    </tr>\n    <tr>\n      <th>40</th>\n      <td>40</td>\n      <td>rex il ristorante</td>\n      <td>617 olive street</td>\n      <td>los angeles</td>\n      <td>2136272300</td>\n      <td>nuova cucina italian</td>\n    </tr>\n    <tr>\n      <th>44</th>\n      <td>44</td>\n      <td>valentino</td>\n      <td>3115 pico boulevard</td>\n      <td>santa monica</td>\n      <td>3108294313</td>\n      <td>italian</td>\n    </tr>\n    <tr>\n      <th>48</th>\n      <td>48</td>\n      <td>21 club</td>\n      <td>21 52 street</td>\n      <td>new york</td>\n      <td>2125827200</td>\n      <td>american (new)</td>\n    </tr>\n    <tr>\n      <th>50</th>\n      <td>50</td>\n      <td>aquavit</td>\n      <td>13 54 street</td>\n      <td>new york</td>\n      <td>2123077311</td>\n      <td>scandinavian</td>\n    </tr>\n    <tr>\n      <th>52</th>\n      <td>52</td>\n      <td>aureole</td>\n      <td>34 61 street</td>\n      <td>new york</td>\n      <td>2123191660</td>\n      <td>american (new)</td>\n    </tr>\n  </tbody>\n</table>\n</div>"
     },
     "metadata": {},
     "output_type": "execute_result",
     "execution_count": 15
    }
   ],
   "source": [
    "restaurant_duplicates.head(20)"
   ],
   "metadata": {
    "collapsed": false,
    "pycharm": {
     "name": "#%%\n",
     "is_executing": false
    }
   }
  },
  {
   "cell_type": "code",
   "execution_count": 16,
   "outputs": [
    {
     "data": {
      "text/plain": "    id                      name                            address  \\\nid                                                                    \n1   1   arnie mortons of chicago  435 los angeles cienega boulevard   \n3   3   arts delicatessen         12224 ventura boulevard             \n5   5   hotel belair              701 stone canyon road               \n7   7   cafe bizou                14016 ventura boulevard             \n9   9   campanile                 624 los angeles brea avenue         \n11  11  chinois on main           2709 main street                    \n13  13  citrus                    6703 melrose avenue                 \n15  15  fenix                     8358 sunset boulevard               \n17  17  granita                   23725 malibu road                   \n19  19  grill on the alley        9560 dayton way                     \n20  20  grill  the                9560 dayton way                     \n21  21  restaurant katsu          1972 hillhurst avenue               \n22  22  katsu                     1972 hillhurst avenue               \n23  23  lorangerie                903 los angeles cienega boulevard   \n25  25  le chardonnay             8284 melrose avenue                 \n27  27  locanda veneta            3 street                            \n29  29  matsuhisa                 129 los angeles cienega boulevard   \n31  31  the palm                  9001 santa monica boulevard         \n32  32  palm  the los angeles     9001 santa monica boulevard         \n33  33  patina                    5955 melrose avenue                 \n\n             city       phone                    type  \nid                                                     \n1   los angeles    3102461501  american                \n3   studio city    8187621221  american                \n5   bel air        3104721211  californian             \n7   sherman oaks   8187883536  french                  \n9   los angeles    2139381447  american                \n11  santa monica   3103929025  french                  \n13  los angeles    2138570034  californian             \n15  hollywood      2138486677  american                \n17  malibu         3104560488  californian             \n19  los angeles    3102760615  american                \n20  beverly hills  3102760615  american (traditional)  \n21  los angeles    2136651891  asian                   \n22  los feliz      2136651891  japanese                \n23  los angeles    3106529770  french                  \n25  los angeles    2136558880  french                  \n27  los angeles    3102741893  italian                 \n29  beverly hills  3106599639  asian                   \n31  los angeles    3105508811  american                \n32  hollywood      3105508811  steakhouses             \n33  los angeles    2134671108  californian             ",
      "text/html": "<div>\n<style scoped>\n    .dataframe tbody tr th:only-of-type {\n        vertical-align: middle;\n    }\n\n    .dataframe tbody tr th {\n        vertical-align: top;\n    }\n\n    .dataframe thead th {\n        text-align: right;\n    }\n</style>\n<table border=\"1\" class=\"dataframe\">\n  <thead>\n    <tr style=\"text-align: right;\">\n      <th></th>\n      <th>id</th>\n      <th>name</th>\n      <th>address</th>\n      <th>city</th>\n      <th>phone</th>\n      <th>type</th>\n    </tr>\n    <tr>\n      <th>id</th>\n      <th></th>\n      <th></th>\n      <th></th>\n      <th></th>\n      <th></th>\n      <th></th>\n    </tr>\n  </thead>\n  <tbody>\n    <tr>\n      <th>1</th>\n      <td>1</td>\n      <td>arnie mortons of chicago</td>\n      <td>435 los angeles cienega boulevard</td>\n      <td>los angeles</td>\n      <td>3102461501</td>\n      <td>american</td>\n    </tr>\n    <tr>\n      <th>3</th>\n      <td>3</td>\n      <td>arts delicatessen</td>\n      <td>12224 ventura boulevard</td>\n      <td>studio city</td>\n      <td>8187621221</td>\n      <td>american</td>\n    </tr>\n    <tr>\n      <th>5</th>\n      <td>5</td>\n      <td>hotel belair</td>\n      <td>701 stone canyon road</td>\n      <td>bel air</td>\n      <td>3104721211</td>\n      <td>californian</td>\n    </tr>\n    <tr>\n      <th>7</th>\n      <td>7</td>\n      <td>cafe bizou</td>\n      <td>14016 ventura boulevard</td>\n      <td>sherman oaks</td>\n      <td>8187883536</td>\n      <td>french</td>\n    </tr>\n    <tr>\n      <th>9</th>\n      <td>9</td>\n      <td>campanile</td>\n      <td>624 los angeles brea avenue</td>\n      <td>los angeles</td>\n      <td>2139381447</td>\n      <td>american</td>\n    </tr>\n    <tr>\n      <th>11</th>\n      <td>11</td>\n      <td>chinois on main</td>\n      <td>2709 main street</td>\n      <td>santa monica</td>\n      <td>3103929025</td>\n      <td>french</td>\n    </tr>\n    <tr>\n      <th>13</th>\n      <td>13</td>\n      <td>citrus</td>\n      <td>6703 melrose avenue</td>\n      <td>los angeles</td>\n      <td>2138570034</td>\n      <td>californian</td>\n    </tr>\n    <tr>\n      <th>15</th>\n      <td>15</td>\n      <td>fenix</td>\n      <td>8358 sunset boulevard</td>\n      <td>hollywood</td>\n      <td>2138486677</td>\n      <td>american</td>\n    </tr>\n    <tr>\n      <th>17</th>\n      <td>17</td>\n      <td>granita</td>\n      <td>23725 malibu road</td>\n      <td>malibu</td>\n      <td>3104560488</td>\n      <td>californian</td>\n    </tr>\n    <tr>\n      <th>19</th>\n      <td>19</td>\n      <td>grill on the alley</td>\n      <td>9560 dayton way</td>\n      <td>los angeles</td>\n      <td>3102760615</td>\n      <td>american</td>\n    </tr>\n    <tr>\n      <th>20</th>\n      <td>20</td>\n      <td>grill  the</td>\n      <td>9560 dayton way</td>\n      <td>beverly hills</td>\n      <td>3102760615</td>\n      <td>american (traditional)</td>\n    </tr>\n    <tr>\n      <th>21</th>\n      <td>21</td>\n      <td>restaurant katsu</td>\n      <td>1972 hillhurst avenue</td>\n      <td>los angeles</td>\n      <td>2136651891</td>\n      <td>asian</td>\n    </tr>\n    <tr>\n      <th>22</th>\n      <td>22</td>\n      <td>katsu</td>\n      <td>1972 hillhurst avenue</td>\n      <td>los feliz</td>\n      <td>2136651891</td>\n      <td>japanese</td>\n    </tr>\n    <tr>\n      <th>23</th>\n      <td>23</td>\n      <td>lorangerie</td>\n      <td>903 los angeles cienega boulevard</td>\n      <td>los angeles</td>\n      <td>3106529770</td>\n      <td>french</td>\n    </tr>\n    <tr>\n      <th>25</th>\n      <td>25</td>\n      <td>le chardonnay</td>\n      <td>8284 melrose avenue</td>\n      <td>los angeles</td>\n      <td>2136558880</td>\n      <td>french</td>\n    </tr>\n    <tr>\n      <th>27</th>\n      <td>27</td>\n      <td>locanda veneta</td>\n      <td>3 street</td>\n      <td>los angeles</td>\n      <td>3102741893</td>\n      <td>italian</td>\n    </tr>\n    <tr>\n      <th>29</th>\n      <td>29</td>\n      <td>matsuhisa</td>\n      <td>129 los angeles cienega boulevard</td>\n      <td>beverly hills</td>\n      <td>3106599639</td>\n      <td>asian</td>\n    </tr>\n    <tr>\n      <th>31</th>\n      <td>31</td>\n      <td>the palm</td>\n      <td>9001 santa monica boulevard</td>\n      <td>los angeles</td>\n      <td>3105508811</td>\n      <td>american</td>\n    </tr>\n    <tr>\n      <th>32</th>\n      <td>32</td>\n      <td>palm  the los angeles</td>\n      <td>9001 santa monica boulevard</td>\n      <td>hollywood</td>\n      <td>3105508811</td>\n      <td>steakhouses</td>\n    </tr>\n    <tr>\n      <th>33</th>\n      <td>33</td>\n      <td>patina</td>\n      <td>5955 melrose avenue</td>\n      <td>los angeles</td>\n      <td>2134671108</td>\n      <td>californian</td>\n    </tr>\n  </tbody>\n</table>\n</div>"
     },
     "metadata": {},
     "output_type": "execute_result",
     "execution_count": 16
    }
   ],
   "source": [
    "# Check the dataset without duplicates\n",
    "restaurant_data[restaurant_data['id'].isin(restaurant_duplicates['id'])== False].head(20)"
   ],
   "metadata": {
    "collapsed": false,
    "pycharm": {
     "name": "#%%\n",
     "is_executing": false
    }
   }
  },
  {
   "cell_type": "code",
   "execution_count": 17,
   "outputs": [],
   "source": [
    "# Load the gold standard duplicates\n",
    "restaurant_real_duplicates = pd.read_csv('../Data/restaurants_DPL.tsv', sep='\\t')"
   ],
   "metadata": {
    "collapsed": false,
    "pycharm": {
     "name": "#%%\n",
     "is_executing": false
    }
   }
  },
  {
   "cell_type": "code",
   "execution_count": 39,
   "outputs": [
    {
     "name": "stdout",
     "text": [
      "All entries in original dataset: 864\nDetected duplicates (all): 111\nReal duplicates (from gold standard): 112\nTrue positives: 103\nTrue negatives: 744\nFalse positives: 8\nFalse negatives: 9\nPrecision: 0.9279279279279279\nRecall: 0.9196428571428571\n"
     ],
     "output_type": "stream"
    }
   ],
   "source": [
    "# Check the quality of the duplicate detection\n",
    "restaurant_data_count = len(restaurant_data)\n",
    "my_duplicate_ids = restaurant_duplicates['id']\n",
    "my_duplicate_count = len(my_duplicate_ids)\n",
    "real_duplicates_count = len(restaurant_real_duplicates)\n",
    "true_positives_count = len(my_duplicate_ids[my_duplicate_ids.isin(restaurant_real_duplicates.id2)])\n",
    "false_positives_count = len(my_duplicate_ids[my_duplicate_ids.isin(restaurant_real_duplicates.id2) == False])\n",
    "false_negatives = real_duplicates_count - true_positives_count\n",
    "precision = true_positives_count / my_duplicate_count\n",
    "recall = true_positives_count / (true_positives_count + false_negatives)\n",
    "\n",
    "true_negatives = restaurant_data_count - real_duplicates_count - false_positives_count\n",
    "\n",
    "print('All entries in original dataset: ' + str(restaurant_data_count))\n",
    "print('Detected duplicates (all): ' + str(my_duplicate_count))\n",
    "print('Real duplicates (from gold standard): ' + str(real_duplicates_count))\n",
    "print('True positives: ' +  str(true_positives_count))\n",
    "print('True negatives: ' +  str(true_negatives))\n",
    "print('False positives: ' + str(false_positives_count))\n",
    "print('False negatives: ' + str(false_negatives))\n",
    "print('Precision: ' + str(precision))\n",
    "print('Recall: ' + str(recall))"
   ],
   "metadata": {
    "collapsed": false,
    "pycharm": {
     "name": "#%%\n",
     "is_executing": false
    }
   }
  },
  {
   "cell_type": "code",
   "execution_count": 38,
   "outputs": [
    {
     "data": {
      "text/plain": "<Figure size 432x288 with 2 Axes>",
      "image/png": "[encoded data removed]"
     },
     "metadata": {
      "needs_background": "light"
     },
     "output_type": "display_data"
    }
   ],
   "source": [
    "import numpy as np\n",
    "import matplotlib.pyplot as plt\n",
    "from mlxtend.plotting import plot_confusion_matrix\n",
    "\n",
    "binary = np.array([[true_positives_count, false_negatives],\n",
    "                   [false_positives_count, true_negatives]])\n",
    "\n",
    "fig, ax = plot_confusion_matrix(conf_mat=binary,\n",
    "                                show_absolute=True,\n",
    "                                show_normed=True,\n",
    "                                colorbar=True)\n",
    "plt.show()"
   ],
   "metadata": {
    "collapsed": false,
    "pycharm": {
     "name": "#%%\n",
     "is_executing": false
    }
   }
  },
  {
   "cell_type": "code",
   "execution_count": 28,
   "outputs": [
    {
     "name": "stdout",
     "text": [
      "dup found\n",
      "dup found\n",
      "dup found\n",
      "dup found\n",
      "dup found\n",
      "dup found\n",
      "dup found\n",
      "dup found\n",
      "dup found\n",
      "dup found\n",
      "dup found\n",
      "dup found\n",
      "dup found\n",
      "dup found\n",
      "dup found\n",
      "dup found\n",
      "dup found\n",
      "dup found\n",
      "dup found\n",
      "dup found\n",
      "dup found\n",
      "dup found\n",
      "dup found\n",
      "dup found\n",
      "dup found\n",
      "dup found\n",
      "dup found\n",
      "dup found\n",
      "dup found\n",
      "dup found\n",
      "dup found\n",
      "dup found\n",
      "dup found\n",
      "dup found\n",
      "dup found\n",
      "dup found\n",
      "dup found\n",
      "dup found\n",
      "dup found\n",
      "dup found\n",
      "dup found\n",
      "dup found\n",
      "dup found\n",
      "dup found\n",
      "dup found\n",
      "dup found\n",
      "dup found\n",
      "dup found\n",
      "dup found\n",
      "dup found\n",
      "dup found\n",
      "dup found\n",
      "dup found\n",
      "dup found\n",
      "dup found\n",
      "dup found\n",
      "dup found\n",
      "dup found\n",
      "dup found\n",
      "dup found\n",
      "dup found\n",
      "dup found\n",
      "dup found\n",
      "dup found\n",
      "dup found\n",
      "dup found\n",
      "dup found\n",
      "dup found\n",
      "dup found\n",
      "dup found\n",
      "dup found\n",
      "dup found\n",
      "dup found\n",
      "dup found\n",
      "dup found\n",
      "dup found\n",
      "dup found\n",
      "dup found\n",
      "dup found\n",
      "dup found\n",
      "dup found\n",
      "dup found\n",
      "dup found\n",
      "dup found\ndup found\ndup found\n",
      "dup found\ndup found\n",
      "dup found\n",
      "dup found\n",
      "dup found\n",
      "dup found\ndup found\n",
      "dup found\n",
      "dup found\n",
      "dup found\n",
      "dup found\n",
      "dup found\n",
      "dup found\n",
      "dup found\n",
      "dup found\n",
      "dup found\n",
      "dup found\n",
      "dup found\n",
      "dup found\n",
      "dup found\n",
      "dup found\n",
      "dup found\n",
      "dup found\n",
      "dup found\n",
      "dup found\n",
      "dup found\n",
      "dup found\n",
      "dup found\n",
      "dup found\n",
      "dup found\n",
      "dup found\n"
     ],
     "output_type": "stream"
    }
   ],
   "source": [
    "d'uplicate_indices = {}\n",
    "duplicates_str_1 = ['address', 'city', 'phone']\n",
    "duplicates_str_2 = ['address', 'name', 'phone']\n",
    "duplicates_str_3 = ['address', 'city', 'name']\n",
    "duplicates_str_4 = ['name', 'city', 'phone']\n",
    "\n",
    "for row1_idx, row1 in restaurant_data.iterrows(): \n",
    "    cur_index = str(row1_idx)\n",
    "    duplicate_indices[cur_index] = []\n",
    "    row_1_imp_cols_1 = row1[duplicates_str_1]\n",
    "    row_1_imp_cols_2 = row1[duplicates_str_2]\n",
    "    row_1_imp_cols_3 = row1[duplicates_str_3]\n",
    "    row_1_imp_cols_4 = row1[duplicates_str_4]\n",
    "    for row2 in range(row1_idx + 1, len(restaurant_data)):\n",
    "        row_2_imp_cols_1 = restaurant_data.loc[row2, duplicates_str_1]\n",
    "        row_2_imp_cols_2 = restaurant_data.loc[row2, duplicates_str_2]\n",
    "        row_2_imp_cols_3 = restaurant_data.loc[row2, duplicates_str_3]\n",
    "        row_2_imp_cols_4 = restaurant_data.loc[row2, duplicates_str_4]\n",
    "        if (row_1_imp_cols_1.equals(row_2_imp_cols_1) or \n",
    "                row_1_imp_cols_2.equals(row_2_imp_cols_2) or    \n",
    "                row_1_imp_cols_3.equals(row_2_imp_cols_3) or \n",
    "                row_1_imp_cols_4.equals(row_2_imp_cols_4)):\n",
    "                    duplicate_indices[cur_index].append(row2)\n",
    "                    print('dup found')"
   ],
   "metadata": {
    "collapsed": false,
    "pycharm": {
     "name": "#%%\n",
     "is_executing": false
    }
   }
  },
  {
   "cell_type": "code",
   "execution_count": 29,
   "outputs": [
    {
     "data": {
      "text/plain": "{'1': [2],\n '2': [],\n '3': [4],\n '4': [],\n '5': [6],\n '6': [],\n '7': [8],\n '8': [],\n '9': [10],\n '10': [],\n '11': [12],\n '12': [],\n '13': [14],\n '14': [],\n '15': [16],\n '16': [],\n '17': [18],\n '18': [],\n '19': [],\n '20': [],\n '21': [],\n '22': [],\n '23': [24],\n '24': [],\n '25': [26],\n '26': [],\n '27': [28],\n '28': [],\n '29': [30],\n '30': [],\n '31': [],\n '32': [],\n '33': [34],\n '34': [],\n '35': [],\n '36': [],\n '37': [38],\n '38': [],\n '39': [40],\n '40': [],\n '41': [],\n '42': [],\n '43': [44],\n '44': [],\n '45': [],\n '46': [],\n '47': [48],\n '48': [],\n '49': [50],\n '50': [],\n '51': [52],\n '52': [],\n '53': [54],\n '54': [],\n '55': [56],\n '56': [],\n '57': [58],\n '58': [],\n '59': [60],\n '60': [],\n '61': [62],\n '62': [],\n '63': [64],\n '64': [],\n '65': [66],\n '66': [],\n '67': [68],\n '68': [],\n '69': [70],\n '70': [],\n '71': [72],\n '72': [],\n '73': [74],\n '74': [],\n '75': [76],\n '76': [],\n '77': [78],\n '78': [],\n '79': [80],\n '80': [],\n '81': [82],\n '82': [],\n '83': [84],\n '84': [],\n '85': [86],\n '86': [],\n '87': [88],\n '88': [],\n '89': [90],\n '90': [],\n '91': [92],\n '92': [],\n '93': [94],\n '94': [],\n '95': [96],\n '96': [],\n '97': [98],\n '98': [],\n '99': [100],\n '100': [],\n '101': [102],\n '102': [],\n '103': [104],\n '104': [],\n '105': [106],\n '106': [],\n '107': [108],\n '108': [],\n '109': [110],\n '110': [],\n '111': [112],\n '112': [],\n '113': [114],\n '114': [],\n '115': [116],\n '116': [],\n '117': [118],\n '118': [],\n '119': [120],\n '120': [],\n '121': [],\n '122': [],\n '123': [124],\n '124': [],\n '125': [126],\n '126': [],\n '127': [128],\n '128': [],\n '129': [130],\n '130': [],\n '131': [132],\n '132': [],\n '133': [134],\n '134': [],\n '135': [136],\n '136': [],\n '137': [138],\n '138': [],\n '139': [],\n '140': [],\n '141': [142, 546],\n '142': [],\n '143': [],\n '144': [],\n '145': [146, 550],\n '146': [550],\n '147': [148],\n '148': [],\n '149': [150],\n '150': [],\n '151': [152],\n '152': [],\n '153': [154],\n '154': [],\n '155': [156],\n '156': [],\n '157': [158],\n '158': [],\n '159': [160],\n '160': [],\n '161': [162],\n '162': [],\n '163': [164],\n '164': [],\n '165': [166],\n '166': [],\n '167': [168],\n '168': [],\n '169': [170],\n '170': [],\n '171': [172],\n '172': [],\n '173': [174],\n '174': [],\n '175': [176],\n '176': [],\n '177': [178],\n '178': [],\n '179': [180, 181, 182],\n '180': [181, 182],\n '181': [182],\n '182': [],\n '183': [184, 823],\n '184': [823],\n '185': [186],\n '186': [],\n '187': [188],\n '188': [],\n '189': [190],\n '190': [],\n '191': [192],\n '192': [],\n '193': [194],\n '194': [],\n '195': [196],\n '196': [],\n '197': [198],\n '198': [],\n '199': [200],\n '200': [],\n '201': [202],\n '202': [],\n '203': [204],\n '204': [],\n '205': [206],\n '206': [],\n '207': [208],\n '208': [],\n '209': [210],\n '210': [],\n '211': [212],\n '212': [],\n '213': [214],\n '214': [],\n '215': [216],\n '216': [],\n '217': [218],\n '218': [],\n '219': [220],\n '220': [],\n '221': [222],\n '222': [],\n '223': [224],\n '224': [],\n '225': [],\n '226': [],\n '227': [],\n '228': [],\n '229': [],\n '230': [],\n '231': [],\n '232': [],\n '233': [],\n '234': [],\n '235': [],\n '236': [],\n '237': [],\n '238': [],\n '239': [],\n '240': [],\n '241': [],\n '242': [],\n '243': [],\n '244': [],\n '245': [],\n '246': [],\n '247': [],\n '248': [],\n '249': [],\n '250': [],\n '251': [],\n '252': [],\n '253': [],\n '254': [],\n '255': [],\n '256': [],\n '257': [],\n '258': [],\n '259': [],\n '260': [],\n '261': [],\n '262': [],\n '263': [],\n '264': [],\n '265': [],\n '266': [],\n '267': [],\n '268': [],\n '269': [],\n '270': [],\n '271': [],\n '272': [],\n '273': [],\n '274': [],\n '275': [],\n '276': [],\n '277': [],\n '278': [],\n '279': [],\n '280': [],\n '281': [],\n '282': [],\n '283': [],\n '284': [],\n '285': [],\n '286': [],\n '287': [],\n '288': [],\n '289': [],\n '290': [],\n '291': [],\n '292': [],\n '293': [],\n '294': [],\n '295': [],\n '296': [],\n '297': [],\n '298': [],\n '299': [],\n '300': [],\n '301': [],\n '302': [],\n '303': [],\n '304': [],\n '305': [],\n '306': [],\n '307': [],\n '308': [],\n '309': [],\n '310': [],\n '311': [],\n '312': [],\n '313': [],\n '314': [],\n '315': [],\n '316': [],\n '317': [],\n '318': [],\n '319': [],\n '320': [],\n '321': [],\n '322': [],\n '323': [],\n '324': [],\n '325': [],\n '326': [],\n '327': [],\n '328': [],\n '329': [],\n '330': [],\n '331': [],\n '332': [],\n '333': [],\n '334': [],\n '335': [],\n '336': [],\n '337': [],\n '338': [],\n '339': [],\n '340': [],\n '341': [],\n '342': [],\n '343': [],\n '344': [],\n '345': [],\n '346': [],\n '347': [],\n '348': [],\n '349': [],\n '350': [],\n '351': [],\n '352': [],\n '353': [],\n '354': [],\n '355': [],\n '356': [],\n '357': [],\n '358': [],\n '359': [],\n '360': [],\n '361': [],\n '362': [],\n '363': [],\n '364': [],\n '365': [],\n '366': [],\n '367': [],\n '368': [],\n '369': [],\n '370': [],\n '371': [],\n '372': [],\n '373': [],\n '374': [],\n '375': [],\n '376': [],\n '377': [],\n '378': [],\n '379': [],\n '380': [],\n '381': [],\n '382': [],\n '383': [],\n '384': [],\n '385': [],\n '386': [],\n '387': [],\n '388': [],\n '389': [],\n '390': [],\n '391': [],\n '392': [],\n '393': [],\n '394': [],\n '395': [],\n '396': [],\n '397': [],\n '398': [],\n '399': [],\n '400': [],\n '401': [],\n '402': [],\n '403': [],\n '404': [],\n '405': [],\n '406': [],\n '407': [],\n '408': [],\n '409': [],\n '410': [],\n '411': [],\n '412': [],\n '413': [],\n '414': [],\n '415': [],\n '416': [],\n '417': [],\n '418': [],\n '419': [],\n '420': [],\n '421': [],\n '422': [],\n '423': [],\n '424': [],\n '425': [],\n '426': [],\n '427': [],\n '428': [],\n '429': [],\n '430': [],\n '431': [],\n '432': [],\n '433': [],\n '434': [],\n '435': [],\n '436': [],\n '437': [],\n '438': [],\n '439': [],\n '440': [],\n '441': [],\n '442': [],\n '443': [],\n '444': [],\n '445': [],\n '446': [],\n '447': [],\n '448': [],\n '449': [],\n '450': [],\n '451': [],\n '452': [],\n '453': [],\n '454': [],\n '455': [],\n '456': [],\n '457': [],\n '458': [],\n '459': [],\n '460': [],\n '461': [],\n '462': [],\n '463': [],\n '464': [],\n '465': [],\n '466': [],\n '467': [],\n '468': [],\n '469': [],\n '470': [],\n '471': [],\n '472': [],\n '473': [],\n '474': [],\n '475': [],\n '476': [],\n '477': [],\n '478': [],\n '479': [],\n '480': [],\n '481': [],\n '482': [],\n '483': [],\n '484': [],\n '485': [],\n '486': [],\n '487': [],\n '488': [],\n '489': [],\n '490': [],\n '491': [],\n '492': [],\n '493': [],\n '494': [],\n '495': [],\n '496': [],\n '497': [],\n '498': [],\n '499': [],\n '500': [],\n '501': [],\n '502': [],\n '503': [],\n '504': [],\n '505': [],\n '506': [],\n '507': [],\n '508': [],\n '509': [],\n '510': [],\n '511': [],\n '512': [],\n '513': [],\n '514': [],\n '515': [],\n '516': [],\n '517': [],\n '518': [],\n '519': [],\n '520': [],\n '521': [],\n '522': [],\n '523': [],\n '524': [],\n '525': [],\n '526': [],\n '527': [],\n '528': [],\n '529': [],\n '530': [],\n '531': [],\n '532': [],\n '533': [],\n '534': [],\n '535': [],\n '536': [],\n '537': [],\n '538': [],\n '539': [],\n '540': [],\n '541': [783],\n '542': [559],\n '543': [],\n '544': [],\n '545': [],\n '546': [],\n '547': [],\n '548': [],\n '549': [],\n '550': [],\n '551': [],\n '552': [],\n '553': [555, 784],\n '554': [],\n '555': [784],\n '556': [],\n '557': [],\n '558': [],\n '559': [],\n '560': [],\n '561': [],\n '562': [],\n '563': [],\n '564': [],\n '565': [],\n '566': [],\n '567': [],\n '568': [],\n '569': [],\n '570': [],\n '571': [],\n '572': [],\n '573': [],\n '574': [],\n '575': [],\n '576': [],\n '577': [],\n '578': [],\n '579': [],\n '580': [],\n '581': [],\n '582': [],\n '583': [],\n '584': [],\n '585': [],\n '586': [],\n '587': [],\n '588': [],\n '589': [],\n '590': [],\n '591': [],\n '592': [],\n '593': [],\n '594': [],\n '595': [],\n '596': [],\n '597': [],\n '598': [],\n '599': [],\n '600': [],\n '601': [],\n '602': [],\n '603': [],\n '604': [],\n '605': [],\n '606': [],\n '607': [],\n '608': [],\n '609': [],\n '610': [],\n '611': [],\n '612': [],\n '613': [],\n '614': [],\n '615': [],\n '616': [],\n '617': [],\n '618': [],\n '619': [],\n '620': [],\n '621': [],\n '622': [],\n '623': [],\n '624': [],\n '625': [],\n '626': [],\n '627': [],\n '628': [],\n '629': [],\n '630': [],\n '631': [],\n '632': [],\n '633': [],\n '634': [],\n '635': [],\n '636': [],\n '637': [],\n '638': [],\n '639': [],\n '640': [],\n '641': [],\n '642': [],\n '643': [],\n '644': [],\n '645': [],\n '646': [],\n '647': [],\n '648': [],\n '649': [],\n '650': [],\n '651': [],\n '652': [],\n '653': [],\n '654': [],\n '655': [],\n '656': [],\n '657': [],\n '658': [],\n '659': [],\n '660': [],\n '661': [],\n '662': [],\n '663': [],\n '664': [],\n '665': [],\n '666': [],\n '667': [],\n '668': [],\n '669': [],\n '670': [],\n '671': [],\n '672': [],\n '673': [],\n '674': [],\n '675': [],\n '676': [],\n '677': [],\n '678': [],\n '679': [],\n '680': [],\n '681': [],\n '682': [],\n '683': [],\n '684': [],\n '685': [],\n '686': [],\n '687': [],\n '688': [],\n '689': [],\n '690': [],\n '691': [],\n '692': [],\n '693': [],\n '694': [],\n '695': [],\n '696': [],\n '697': [],\n '698': [],\n '699': [],\n '700': [],\n '701': [],\n '702': [],\n '703': [],\n '704': [],\n '705': [],\n '706': [],\n '707': [],\n '708': [],\n '709': [],\n '710': [],\n '711': [],\n '712': [],\n '713': [],\n '714': [],\n '715': [],\n '716': [],\n '717': [],\n '718': [],\n '719': [],\n '720': [],\n '721': [],\n '722': [],\n '723': [],\n '724': [],\n '725': [],\n '726': [],\n '727': [],\n '728': [],\n '729': [],\n '730': [],\n '731': [],\n '732': [],\n '733': [],\n '734': [],\n '735': [],\n '736': [],\n '737': [],\n '738': [],\n '739': [],\n '740': [],\n '741': [],\n '742': [],\n '743': [],\n '744': [],\n '745': [],\n '746': [],\n '747': [],\n '748': [],\n '749': [],\n '750': [],\n '751': [],\n '752': [],\n '753': [],\n '754': [],\n '755': [],\n '756': [],\n '757': [],\n '758': [],\n '759': [],\n '760': [],\n '761': [],\n '762': [],\n '763': [],\n '764': [],\n '765': [],\n '766': [],\n '767': [],\n '768': [],\n '769': [],\n '770': [],\n '771': [],\n '772': [],\n '773': [],\n '774': [],\n '775': [],\n '776': [],\n '777': [],\n '778': [],\n '779': [],\n '780': [],\n '781': [],\n '782': [],\n '783': [],\n '784': [],\n '785': [],\n '786': [],\n '787': [],\n '788': [],\n '789': [],\n '790': [],\n '791': [],\n '792': [],\n '793': [],\n '794': [],\n '795': [],\n '796': [],\n '797': [],\n '798': [],\n '799': [],\n '800': [],\n '801': [],\n '802': [],\n '803': [],\n '804': [],\n '805': [],\n '806': [],\n '807': [],\n '808': [],\n '809': [],\n '810': [],\n '811': [],\n '812': [],\n '813': [],\n '814': [],\n '815': [],\n '816': [],\n '817': [],\n '818': [],\n '819': [],\n '820': [],\n '821': [],\n '822': [],\n '823': [],\n '824': [],\n '825': [],\n '826': [],\n '827': [],\n '828': [],\n '829': [],\n '830': [],\n '831': [],\n '832': [],\n '833': [],\n '834': [],\n '835': [],\n '836': [],\n '837': [],\n '838': [],\n '839': [],\n '840': [],\n '841': [],\n '842': [],\n '843': [],\n '844': [],\n '845': [],\n '846': [],\n '847': [],\n '848': [],\n '849': [],\n '850': [],\n '851': [],\n '852': [],\n '853': [],\n '854': [],\n '855': [],\n '856': [],\n '857': [],\n '858': [],\n '859': [],\n '860': [],\n '861': [],\n '862': [],\n '863': [],\n '864': []}"
     },
     "metadata": {},
     "output_type": "execute_result",
     "execution_count": 29
    }
   ],
   "source": [
    "duplicate_indices\n"
   ],
   "metadata": {
    "collapsed": false,
    "pycharm": {
     "name": "#%%\n",
     "is_executing": false
    }
   }
  },
  {
   "cell_type": "code",
   "execution_count": 32,
   "outputs": [
    {
     "data": {
      "text/plain": "      id                 name             address       city       phone  \\\nid                                                                         \n555  555  lillie langtrys      129 fremont street  las vegas  7023857111   \n553  553  golden nugget hotel  129 fremont street  las vegas  7023857111   \n784  784  stefanos             129 fremont street  las vegas  7023857111   \n\n        type  \nid            \n555  asian    \n553  buffets  \n784  italian  ",
      "text/html": "<div>\n<style scoped>\n    .dataframe tbody tr th:only-of-type {\n        vertical-align: middle;\n    }\n\n    .dataframe tbody tr th {\n        vertical-align: top;\n    }\n\n    .dataframe thead th {\n        text-align: right;\n    }\n</style>\n<table border=\"1\" class=\"dataframe\">\n  <thead>\n    <tr style=\"text-align: right;\">\n      <th></th>\n      <th>id</th>\n      <th>name</th>\n      <th>address</th>\n      <th>city</th>\n      <th>phone</th>\n      <th>type</th>\n    </tr>\n    <tr>\n      <th>id</th>\n      <th></th>\n      <th></th>\n      <th></th>\n      <th></th>\n      <th></th>\n      <th></th>\n    </tr>\n  </thead>\n  <tbody>\n    <tr>\n      <th>555</th>\n      <td>555</td>\n      <td>lillie langtrys</td>\n      <td>129 fremont street</td>\n      <td>las vegas</td>\n      <td>7023857111</td>\n      <td>asian</td>\n    </tr>\n    <tr>\n      <th>553</th>\n      <td>553</td>\n      <td>golden nugget hotel</td>\n      <td>129 fremont street</td>\n      <td>las vegas</td>\n      <td>7023857111</td>\n      <td>buffets</td>\n    </tr>\n    <tr>\n      <th>784</th>\n      <td>784</td>\n      <td>stefanos</td>\n      <td>129 fremont street</td>\n      <td>las vegas</td>\n      <td>7023857111</td>\n      <td>italian</td>\n    </tr>\n  </tbody>\n</table>\n</div>"
     },
     "metadata": {},
     "output_type": "execute_result",
     "execution_count": 32
    }
   ],
   "source": [
    "restaurant_data.loc[[555, 553, 784]]\n"
   ],
   "metadata": {
    "collapsed": false,
    "pycharm": {
     "name": "#%%\n",
     "is_executing": false
    }
   }
  },
  {
   "cell_type": "code",
   "execution_count": null,
   "outputs": [],
   "source": [
    "\n"
   ],
   "metadata": {
    "collapsed": false,
    "pycharm": {
     "name": "#%%\n"
    }
   }
  }
 ],
 "metadata": {
  "kernelspec": {
   "display_name": "Python 3",
   "language": "python",
   "name": "python3"
  },
  "language_info": {
   "codemirror_mode": {
    "name": "ipython",
    "version": 2
   },
   "file_extension": ".py",
   "mimetype": "text/x-python",
   "name": "python",
   "nbconvert_exporter": "python",
   "pygments_lexer": "ipython2",
   "version": "2.7.6"
  },
  "pycharm": {
   "stem_cell": {
    "cell_type": "raw",
    "source": [],
    "metadata": {
     "collapsed": false
    }
   }
  }
 },
 "nbformat": 4,
 "nbformat_minor": 0
}