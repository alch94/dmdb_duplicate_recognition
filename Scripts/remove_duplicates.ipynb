{
 "cells": [
  {
   "cell_type": "code",
   "execution_count": 1,
   "metadata": {
    "collapsed": true,
    "pycharm": {
     "is_executing": false,
     "name": "#%%\n"
    }
   },
   "outputs": [],
   "source": [
    "# Load data and set pandas options to display the full dataset if needed\n",
    "import re\n",
    "import pandas as pd\n",
    "from Scripts import utils\n",
    "from Scripts import Properties\n",
    "\n",
    "\n",
    "properties = Properties.Properties\n",
    "pd.set_option('display.max_columns', None)  \n",
    "pd.set_option('display.max_rows', None)  \n",
    "pd.set_option('display.max_colwidth', -1)  \n",
    "restaurant_data = pd.read_csv(properties.ORIGINAL_DATA_DIR, sep='\\t')\n",
    "restaurant_data = restaurant_data.set_index(['id'], drop=False)\n",
    "restaurant_data.head()\n",
    "restaurant_data_original = restaurant_data.copy()\n",
    "# Load the gold standard duplicates to calculate metrics\n",
    "true_duplicates = pd.read_csv(properties.GOLD_STANDARD_DIR, sep='\\t')"
   ]
  },
  {
   "cell_type": "code",
   "execution_count": 2,
   "outputs": [
    {
     "name": "stdout",
     "text": [
      "Duplicates without any preprocessing\n",
      "Duplicates in address: 92\n",
      "Duplicates in name: 88\n",
      "Duplicates in phone: 7\n",
      "Duplicates in city: 815\n",
      "Duplicates in address name and phone: 0\n",
      "Duplicates in address city and name: 24\n",
      "Duplicates in name city and phone0\n",
      "Duplicates in address, city, name and phone: 0\n",
      "duplicates in 3 columns of address, city, name and phone24\n"
     ],
     "output_type": "stream"
    }
   ],
   "source": [
    "print('Duplicates without any preprocessing')\n",
    "duplicates_bool = utils.get_duplicates_bool(restaurant_data)"
   ],
   "metadata": {
    "collapsed": false,
    "pycharm": {
     "name": "#%%\n",
     "is_executing": false
    }
   }
  },
  {
   "cell_type": "code",
   "execution_count": 3,
   "outputs": [
    {
     "name": "stdout",
     "text": [
      "Metrics without any preprocessing\n",
      "All entries in original dataset: 864\n",
      "Detected duplicates (all): 24\n",
      "Real duplicates (from gold standard): 112\n",
      "True positives: 24\n",
      "True negatives: 752\n",
      "False positives: 0\n",
      "False negatives: 88\n",
      "Accuracy 0.8981481481481481\n",
      "Precision: 1.0\n",
      "Recall: 0.21428571428571427\n"
     ],
     "output_type": "stream"
    }
   ],
   "source": [
    "print('Metrics without any preprocessing')\n",
    "detected_duplicates = restaurant_data[duplicates_bool == True]\n",
    "utils.print_metrics(restaurant_data, detected_duplicates, true_duplicates)"
   ],
   "metadata": {
    "collapsed": false,
    "pycharm": {
     "name": "#%%\n",
     "is_executing": false
    }
   }
  },
  {
   "cell_type": "code",
   "execution_count": 4,
   "outputs": [
    {
     "name": "stdout",
     "text": [
      "<class 'pandas.core.frame.DataFrame'>\n",
      "Int64Index: 864 entries, 1 to 864\n",
      "Data columns (total 6 columns):\n",
      "id         864 non-null int64\n",
      "name       864 non-null object\n",
      "address    864 non-null object\n",
      "city       864 non-null object\n",
      "phone      864 non-null object\n",
      "type       863 non-null object\n",
      "dtypes: int64(1), object(5)\n",
      "memory usage: 47.2+ KB\n"
     ],
     "output_type": "stream"
    }
   ],
   "source": [
    "# Get info about the data and datatypes of the DataFrame\n",
    "restaurant_data.info()"
   ],
   "metadata": {
    "collapsed": false,
    "pycharm": {
     "name": "#%%\n",
     "is_executing": false
    }
   }
  },
  {
   "cell_type": "code",
   "execution_count": 5,
   "outputs": [],
   "source": [
    "# Remove special characters from phone, address, name and city to detect duplicates\n",
    "restaurant_data = utils.remove_special_characters(restaurant_data)\n",
    "restaurant_data = utils.trim_multiple_blanks(restaurant_data)"
   ],
   "metadata": {
    "collapsed": false,
    "pycharm": {
     "name": "#%%\n",
     "is_executing": false
    }
   }
  },
  {
   "cell_type": "code",
   "execution_count": 6,
   "outputs": [],
   "source": [
    "# Remove the direction in address and name because it's inconsistent over the dataset\n",
    "direction_regex = re.compile('(( |^)((south)|(east)|(west)|(north)|(ne)|(se)|(nw)|(sw)|s|w|e|n)( |$))')\n",
    "restaurant_data.address = restaurant_data.address.map(lambda x: direction_regex.sub(' ', x))\n",
    "restaurant_data.name = restaurant_data.name.map(lambda x: direction_regex.sub(' ', x))\n",
    "restaurant_data.city = restaurant_data.city.map(lambda x: direction_regex.sub(' ', x))\n",
    "restaurant_data = utils.trim_multiple_blanks(restaurant_data)"
   ],
   "metadata": {
    "collapsed": false,
    "pycharm": {
     "name": "#%%\n",
     "is_executing": false
    }
   }
  },
  {
   "cell_type": "code",
   "execution_count": 7,
   "outputs": [
    {
     "name": "stdout",
     "text": [
      "Duplicates after removing generic clearing\n",
      "Duplicates in address: 106\n",
      "Duplicates in name: 91\n",
      "Duplicates in phone: 116\n",
      "Duplicates in city: 817\n",
      "Duplicates in address name and phone: 51\n",
      "Duplicates in address city and name: 26\n",
      "Duplicates in name city and phone41\n",
      "Duplicates in address, city, name and phone: 25\n",
      "duplicates in 3 columns of address, city, name and phone68\n"
     ],
     "output_type": "stream"
    }
   ],
   "source": [
    "print('Duplicates after removing generic clearing')\n",
    "duplicates_bool = utils.get_duplicates_bool(restaurant_data)"
   ],
   "metadata": {
    "collapsed": false,
    "pycharm": {
     "name": "#%%\n",
     "is_executing": false
    }
   }
  },
  {
   "cell_type": "code",
   "execution_count": 8,
   "outputs": [
    {
     "name": "stdout",
     "text": [
      "Metrics after generic clearing\n",
      "All entries in original dataset: 864\n",
      "Detected duplicates (all): 68\n",
      "Real duplicates (from gold standard): 112\n",
      "True positives: 68\n",
      "True negatives: 752\n",
      "False positives: 0\n",
      "False negatives: 44\n",
      "Accuracy 0.9490740740740741\n",
      "Precision: 1.0\n",
      "Recall: 0.6071428571428571\n"
     ],
     "output_type": "stream"
    }
   ],
   "source": [
    "print('Metrics after generic clearing')\n",
    "detected_duplicates = restaurant_data[duplicates_bool == True]\n",
    "utils.print_metrics(restaurant_data, detected_duplicates, true_duplicates)"
   ],
   "metadata": {
    "collapsed": false,
    "pycharm": {
     "name": "#%%\n",
     "is_executing": false
    }
   }
  },
  {
   "cell_type": "code",
   "execution_count": 9,
   "outputs": [],
   "source": [
    "# Map multiple occurrences of the same city in different writing\n",
    "# It could also be a good idea to map all city parts to one city (i.e. hollywood -> los angeles)\n",
    "city_map = {'la': 'los angeles', 'new york city': 'new york'}\n",
    "restaurant_data.city = restaurant_data.city.replace(city_map)\n",
    "restaurant_data = utils.trim_multiple_blanks(restaurant_data)"
   ],
   "metadata": {
    "collapsed": false,
    "pycharm": {
     "name": "#%%\n",
     "is_executing": false
    }
   }
  },
  {
   "cell_type": "code",
   "execution_count": 10,
   "outputs": [
    {
     "name": "stdout",
     "text": [
      "Duplicates after clearing city\n",
      "Duplicates in address: 106\n",
      "Duplicates in name: 91\n",
      "Duplicates in phone: 116\n",
      "Duplicates in city: 819\n",
      "Duplicates in address name and phone: 51\n",
      "Duplicates in address city and name: 49\n",
      "Duplicates in name city and phone78\n",
      "Duplicates in address, city, name and phone: 48\n",
      "duplicates in 3 columns of address, city, name and phone82\n"
     ],
     "output_type": "stream"
    }
   ],
   "source": [
    "print('Duplicates after clearing city')\n",
    "duplicates_bool = utils.get_duplicates_bool(restaurant_data)"
   ],
   "metadata": {
    "collapsed": false,
    "pycharm": {
     "name": "#%%\n",
     "is_executing": false
    }
   }
  },
  {
   "cell_type": "code",
   "execution_count": 11,
   "outputs": [
    {
     "name": "stdout",
     "text": [
      "Metrics after clearing city\n",
      "All entries in original dataset: 864\n",
      "Detected duplicates (all): 82\n",
      "Real duplicates (from gold standard): 112\n",
      "True positives: 82\n",
      "True negatives: 752\n",
      "False positives: 0\n",
      "False negatives: 30\n",
      "Accuracy 0.9652777777777778\n",
      "Precision: 1.0\n",
      "Recall: 0.7321428571428571\n"
     ],
     "output_type": "stream"
    }
   ],
   "source": [
    "print('Metrics after clearing city')\n",
    "detected_duplicates = restaurant_data[duplicates_bool == True]\n",
    "utils.print_metrics(restaurant_data, detected_duplicates, true_duplicates)"
   ],
   "metadata": {
    "collapsed": false,
    "pycharm": {
     "name": "#%%\n",
     "is_executing": false
    }
   }
  },
  {
   "cell_type": "code",
   "execution_count": 12,
   "outputs": [
    {
     "name": "stdout",
     "text": [
      "length of unique addresses before clearing 758\n"
     ],
     "output_type": "stream"
    }
   ],
   "source": [
    "print('length of unique addresses before clearing ' + str(len(restaurant_data.address.unique())))"
   ],
   "metadata": {
    "collapsed": false,
    "pycharm": {
     "name": "#%%\n",
     "is_executing": false
    }
   }
  },
  {
   "cell_type": "code",
   "execution_count": 13,
   "outputs": [],
   "source": [
    "# Remove unnecessary explaination parts from the address string for a more accurate duplicate detection\n",
    "restaurant_data['address'] = restaurant_data['address'].str.split(r' between| off| near| at| in').str[0]"
   ],
   "metadata": {
    "collapsed": false,
    "pycharm": {
     "name": "#%%\n",
     "is_executing": false
    }
   }
  },
  {
   "cell_type": "code",
   "execution_count": 14,
   "outputs": [],
   "source": [
    "# Remove appendixes of numbers because they are inconsistent over the dataset\n",
    "restaurant_data.address = restaurant_data.address.map(lambda x: re.sub(r\"(?<=\\d)(st|nd|rd|th)\\b\", '', x))"
   ],
   "metadata": {
    "collapsed": false,
    "pycharm": {
     "name": "#%%\n",
     "is_executing": false
    }
   }
  },
  {
   "cell_type": "code",
   "execution_count": 15,
   "outputs": [],
   "source": [
    "# Standardize the address even more\n",
    "address_num_map = {'first': '1', 'second': '2', 'third': '3', 'fourth': '4', 'fifth': '5', 'sixth': '6',\n",
    "                   'seventh': '7','eighth' : '8', 'ninth': '9', 'tenth': '10', 'eleventh': '11', 'twelfth': '12'}\n",
    "address_name_map = {'la': 'los angeles', 'ave': 'avenue',  'rd': 'road', 'blv': 'boulevard', \n",
    "                    'blvd': 'boulevard', 'st': 'street'}\n",
    "address_map = {**address_name_map, **address_num_map}\n",
    "restaurant_data.address = restaurant_data.address.map(lambda x: ' '.join([address_map.get(i, i) for i in x.split()]))\n",
    "restaurant_data = utils.trim_multiple_blanks(restaurant_data)"
   ],
   "metadata": {
    "collapsed": false,
    "pycharm": {
     "name": "#%%\n",
     "is_executing": false
    }
   }
  },
  {
   "cell_type": "code",
   "execution_count": 16,
   "outputs": [
    {
     "name": "stdout",
     "text": [
      "Unique addresses after clearing 739\n"
     ],
     "output_type": "stream"
    }
   ],
   "source": [
    "print('Unique addresses after clearing ' + str(len(restaurant_data.address.unique())))"
   ],
   "metadata": {
    "collapsed": false,
    "pycharm": {
     "name": "#%%\n",
     "is_executing": false
    }
   }
  },
  {
   "cell_type": "code",
   "execution_count": 17,
   "outputs": [
    {
     "name": "stdout",
     "text": [
      "Duplicates after clearing the address\n",
      "Duplicates in address: 125\n",
      "Duplicates in name: 91\n",
      "Duplicates in phone: 116\n",
      "Duplicates in city: 819\n",
      "Duplicates in address name and phone: 68\n",
      "Duplicates in address city and name: 67\n",
      "Duplicates in name city and phone78\n",
      "Duplicates in address, city, name and phone: 65\n",
      "duplicates in 3 columns of address, city, name and phone83\n"
     ],
     "output_type": "stream"
    }
   ],
   "source": [
    "print('Duplicates after clearing the address')\n",
    "duplicates_bool = utils.get_duplicates_bool(restaurant_data)"
   ],
   "metadata": {
    "collapsed": false,
    "pycharm": {
     "name": "#%%\n",
     "is_executing": false
    }
   }
  },
  {
   "cell_type": "code",
   "execution_count": 18,
   "outputs": [
    {
     "name": "stdout",
     "text": [
      "Metrics after clearing the address\n",
      "All entries in original dataset: 864\n",
      "Detected duplicates (all): 83\n",
      "Real duplicates (from gold standard): 112\n",
      "True positives: 83\n",
      "True negatives: 752\n",
      "False positives: 0\n",
      "False negatives: 29\n",
      "Accuracy 0.9664351851851852\n",
      "Precision: 1.0\n",
      "Recall: 0.7410714285714286\n"
     ],
     "output_type": "stream"
    }
   ],
   "source": [
    "print('Metrics after clearing the address')\n",
    "detected_duplicates = restaurant_data[duplicates_bool == True]\n",
    "utils.print_metrics(restaurant_data, detected_duplicates, true_duplicates)"
   ],
   "metadata": {
    "collapsed": false,
    "pycharm": {
     "name": "#%%\n",
     "is_executing": false
    }
   }
  },
  {
   "cell_type": "code",
   "execution_count": 19,
   "outputs": [
    {
     "name": "stdout",
     "text": [
      "Unique names before clearing name: 773\n"
     ],
     "output_type": "stream"
    }
   ],
   "source": [
    "print('Unique names before clearing name: ' + str(len(restaurant_data.name.unique())))"
   ],
   "metadata": {
    "collapsed": false,
    "pycharm": {
     "name": "#%%\n",
     "is_executing": false
    }
   }
  },
  {
   "cell_type": "code",
   "execution_count": 20,
   "outputs": [],
   "source": [
    "unique_city_list = restaurant_data.city.unique()\n",
    "restaurant_data.name = restaurant_data.name.str.split(r' between| off| near| at| in| of').str[0]\n",
    "city_regex = re.compile('the|restaurant|and|new york city|' +'|'.join(map(re.escape, unique_city_list)))\n",
    "restaurant_data.name = [city_regex.sub('', name) for name in restaurant_data.name]"
   ],
   "metadata": {
    "collapsed": false,
    "pycharm": {
     "name": "#%%\n",
     "is_executing": false
    }
   }
  },
  {
   "cell_type": "code",
   "execution_count": 21,
   "outputs": [],
   "source": [
    "restaurant_data.name = restaurant_data.name.apply(lambda x: ' '.join(sorted(x.split(' '))))\n",
    "restaurant_data = utils.trim_multiple_blanks(restaurant_data)"
   ],
   "metadata": {
    "collapsed": false,
    "pycharm": {
     "name": "#%%\n",
     "is_executing": false
    }
   }
  },
  {
   "cell_type": "code",
   "execution_count": 22,
   "outputs": [
    {
     "name": "stdout",
     "text": [
      "Unique names after clearing name: 746\n"
     ],
     "output_type": "stream"
    }
   ],
   "source": [
    "print('Unique names after clearing name: ' + str(len(restaurant_data.name.unique())))"
   ],
   "metadata": {
    "collapsed": false,
    "pycharm": {
     "name": "#%%\n",
     "is_executing": false
    }
   }
  },
  {
   "cell_type": "code",
   "execution_count": 23,
   "outputs": [
    {
     "name": "stdout",
     "text": [
      "Duplicates after clearing name\n",
      "Duplicates in address: 125\n",
      "Duplicates in name: 118\n",
      "Duplicates in phone: 116\n",
      "Duplicates in city: 819\n",
      "Duplicates in address name and phone: 86\n",
      "Duplicates in address city and name: 83\n",
      "Duplicates in name city and phone94\n",
      "Duplicates in address, city, name and phone: 81\n",
      "duplicates in 3 columns of address, city, name and phone101\n"
     ],
     "output_type": "stream"
    }
   ],
   "source": [
    "print('Duplicates after clearing name')\n",
    "duplicates_bool = utils.get_duplicates_bool(restaurant_data)"
   ],
   "metadata": {
    "collapsed": false,
    "pycharm": {
     "name": "#%%\n",
     "is_executing": false
    }
   }
  },
  {
   "cell_type": "code",
   "execution_count": 24,
   "outputs": [
    {
     "name": "stdout",
     "text": [
      "Metrics after clearing\n",
      "All entries in original dataset: 864\n",
      "Detected duplicates (all): 101\n",
      "Real duplicates (from gold standard): 112\n",
      "True positives: 101\n",
      "True negatives: 752\n",
      "False positives: 0\n",
      "False negatives: 11\n",
      "Accuracy 0.9872685185185185\n",
      "Precision: 1.0\n",
      "Recall: 0.9017857142857143\n"
     ],
     "output_type": "stream"
    }
   ],
   "source": [
    "print('Metrics after clearing')\n",
    "detected_duplicates = restaurant_data[duplicates_bool == True]\n",
    "detected_non_duplicates = restaurant_data[duplicates_bool == False]\n",
    "utils.print_metrics(restaurant_data, detected_duplicates, true_duplicates)"
   ],
   "metadata": {
    "collapsed": false,
    "pycharm": {
     "name": "#%%\n",
     "is_executing": false
    }
   }
  },
  {
   "cell_type": "code",
   "execution_count": 25,
   "outputs": [
    {
     "data": {
      "text/plain": "    id              name                            address          city  \\\nid                                                                          \n1   1   arnie morton      435 los angeles cienega boulevard  los angeles    \n3   3   art delicatessen  12224 ventura boulevard            studio city    \n4   4   art deli          12224 ventura boulevard            studio city    \n5   5   belair hotel      701 stone canyon road              bel air        \n7   7   bizou cafe        14016 ventura boulevard            sherman oaks   \n\n         phone         type  \nid                           \n1   3102461501  american     \n3   8187621221  american     \n4   8187621221  delis        \n5   3104721211  californian  \n7   8187883536  french       ",
      "text/html": "<div>\n<style scoped>\n    .dataframe tbody tr th:only-of-type {\n        vertical-align: middle;\n    }\n\n    .dataframe tbody tr th {\n        vertical-align: top;\n    }\n\n    .dataframe thead th {\n        text-align: right;\n    }\n</style>\n<table border=\"1\" class=\"dataframe\">\n  <thead>\n    <tr style=\"text-align: right;\">\n      <th></th>\n      <th>id</th>\n      <th>name</th>\n      <th>address</th>\n      <th>city</th>\n      <th>phone</th>\n      <th>type</th>\n    </tr>\n    <tr>\n      <th>id</th>\n      <th></th>\n      <th></th>\n      <th></th>\n      <th></th>\n      <th></th>\n      <th></th>\n    </tr>\n  </thead>\n  <tbody>\n    <tr>\n      <th>1</th>\n      <td>1</td>\n      <td>arnie morton</td>\n      <td>435 los angeles cienega boulevard</td>\n      <td>los angeles</td>\n      <td>3102461501</td>\n      <td>american</td>\n    </tr>\n    <tr>\n      <th>3</th>\n      <td>3</td>\n      <td>art delicatessen</td>\n      <td>12224 ventura boulevard</td>\n      <td>studio city</td>\n      <td>8187621221</td>\n      <td>american</td>\n    </tr>\n    <tr>\n      <th>4</th>\n      <td>4</td>\n      <td>art deli</td>\n      <td>12224 ventura boulevard</td>\n      <td>studio city</td>\n      <td>8187621221</td>\n      <td>delis</td>\n    </tr>\n    <tr>\n      <th>5</th>\n      <td>5</td>\n      <td>belair hotel</td>\n      <td>701 stone canyon road</td>\n      <td>bel air</td>\n      <td>3104721211</td>\n      <td>californian</td>\n    </tr>\n    <tr>\n      <th>7</th>\n      <td>7</td>\n      <td>bizou cafe</td>\n      <td>14016 ventura boulevard</td>\n      <td>sherman oaks</td>\n      <td>8187883536</td>\n      <td>french</td>\n    </tr>\n  </tbody>\n</table>\n</div>"
     },
     "metadata": {},
     "output_type": "execute_result",
     "execution_count": 25
    }
   ],
   "source": [
    "# Check the dataset without duplicates\n",
    "restaurant_data[restaurant_data['id'].isin(detected_duplicates['id'])== False].head()"
   ],
   "metadata": {
    "collapsed": false,
    "pycharm": {
     "name": "#%%\n",
     "is_executing": false
    }
   }
  },
  {
   "cell_type": "code",
   "execution_count": 26,
   "outputs": [
    {
     "name": "stdout",
     "text": [
      "212/315-1726, \n",
      " 212-245-7992\n",
      "702/731-7547, \n",
      " 702-731-7110\n"
     ],
     "output_type": "stream"
    }
   ],
   "source": [
    "final_data = utils.get_final_dataset(restaurant_data_original, restaurant_data)"
   ],
   "metadata": {
    "collapsed": false,
    "pycharm": {
     "name": "#%%\n",
     "is_executing": false
    }
   }
  },
  {
   "cell_type": "code",
   "execution_count": 27,
   "outputs": [
    {
     "data": {
      "text/plain": "    id                       name                 address          city  \\\nid                                                                        \n1   1   arnie morton's of chicago  435 s. la cienega blv.  los angeles    \n3   3   art's delicatessen         12224 ventura blvd.     studio city    \n4   4   art's deli                 12224 ventura blvd.     studio city    \n5   5   hotel bel-air              701 stone canyon rd.    bel air        \n7   7   cafe bizou                 14016 ventura blvd.     sherman oaks   \n\n           phone         type  \nid                             \n1   310/246-1501  american     \n3   818/762-1221  american     \n4   818-762-1221  delis        \n5   310/472-1211  californian  \n7   818/788-3536  french       ",
      "text/html": "<div>\n<style scoped>\n    .dataframe tbody tr th:only-of-type {\n        vertical-align: middle;\n    }\n\n    .dataframe tbody tr th {\n        vertical-align: top;\n    }\n\n    .dataframe thead th {\n        text-align: right;\n    }\n</style>\n<table border=\"1\" class=\"dataframe\">\n  <thead>\n    <tr style=\"text-align: right;\">\n      <th></th>\n      <th>id</th>\n      <th>name</th>\n      <th>address</th>\n      <th>city</th>\n      <th>phone</th>\n      <th>type</th>\n    </tr>\n    <tr>\n      <th>id</th>\n      <th></th>\n      <th></th>\n      <th></th>\n      <th></th>\n      <th></th>\n      <th></th>\n    </tr>\n  </thead>\n  <tbody>\n    <tr>\n      <th>1</th>\n      <td>1</td>\n      <td>arnie morton's of chicago</td>\n      <td>435 s. la cienega blv.</td>\n      <td>los angeles</td>\n      <td>310/246-1501</td>\n      <td>american</td>\n    </tr>\n    <tr>\n      <th>3</th>\n      <td>3</td>\n      <td>art's delicatessen</td>\n      <td>12224 ventura blvd.</td>\n      <td>studio city</td>\n      <td>818/762-1221</td>\n      <td>american</td>\n    </tr>\n    <tr>\n      <th>4</th>\n      <td>4</td>\n      <td>art's deli</td>\n      <td>12224 ventura blvd.</td>\n      <td>studio city</td>\n      <td>818-762-1221</td>\n      <td>delis</td>\n    </tr>\n    <tr>\n      <th>5</th>\n      <td>5</td>\n      <td>hotel bel-air</td>\n      <td>701 stone canyon rd.</td>\n      <td>bel air</td>\n      <td>310/472-1211</td>\n      <td>californian</td>\n    </tr>\n    <tr>\n      <th>7</th>\n      <td>7</td>\n      <td>cafe bizou</td>\n      <td>14016 ventura blvd.</td>\n      <td>sherman oaks</td>\n      <td>818/788-3536</td>\n      <td>french</td>\n    </tr>\n  </tbody>\n</table>\n</div>"
     },
     "metadata": {},
     "output_type": "execute_result",
     "execution_count": 27
    }
   ],
   "source": [
    "final_data.head()"
   ],
   "metadata": {
    "collapsed": false,
    "pycharm": {
     "name": "#%%\n",
     "is_executing": false
    }
   }
  },
  {
   "cell_type": "code",
   "execution_count": 29,
   "outputs": [],
   "source": [
    "from pymongo import MongoClient\n",
    "client = MongoClient(properties.MONGODB_CONNECTION_STRING, serverSelectionTimeoutMS=60)\n",
    "db = client[properties.MONGODB_DB_NAME]\n",
    "collection = db[properties.MONGODB_COLLECTION_NAME]\n",
    "\n",
    "data = final_data.to_dict(orient='records') \n",
    "collection.insert_many(data)\n",
    "client.close()"
   ],
   "metadata": {
    "collapsed": false,
    "pycharm": {
     "name": "#%%\n",
     "is_executing": false
    }
   }
  },
  {
   "cell_type": "code",
   "execution_count": null,
   "outputs": [],
   "source": [
    "\n"
   ],
   "metadata": {
    "collapsed": false,
    "pycharm": {
     "name": "#%%\n"
    }
   }
  }
 ],
 "metadata": {
  "kernelspec": {
   "display_name": "Python 3",
   "language": "python",
   "name": "python3"
  },
  "language_info": {
   "codemirror_mode": {
    "name": "ipython",
    "version": 2
   },
   "file_extension": ".py",
   "mimetype": "text/x-python",
   "name": "python",
   "nbconvert_exporter": "python",
   "pygments_lexer": "ipython2",
   "version": "2.7.6"
  },
  "pycharm": {
   "stem_cell": {
    "cell_type": "raw",
    "source": [],
    "metadata": {
     "collapsed": false
    }
   }
  }
 },
 "nbformat": 4,
 "nbformat_minor": 0
}